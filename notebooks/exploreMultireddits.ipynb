{
 "cells": [
  {
   "cell_type": "code",
   "execution_count": 1,
   "metadata": {},
   "outputs": [],
   "source": [
    "import praw as praw"
   ]
  },
  {
   "cell_type": "code",
   "execution_count": 10,
   "metadata": {},
   "outputs": [
    {
     "data": {
      "text/plain": [
       "[Subreddit(display_name='Bariloche'),\n",
       " Subreddit(display_name='Mendoza'),\n",
       " Subreddit(display_name='fulbo'),\n",
       " Subreddit(display_name='notArgentina'),\n",
       " Subreddit(display_name='LinuxArgentina'),\n",
       " Subreddit(display_name='ArgEntos'),\n",
       " Subreddit(display_name='Argentinados'),\n",
       " Subreddit(display_name='RepublicaArgentina'),\n",
       " Subreddit(display_name='Argentinacirclejerk'),\n",
       " Subreddit(display_name='empleos_AR'),\n",
       " Subreddit(display_name='fceyn'),\n",
       " Subreddit(display_name='buenosairesbici'),\n",
       " Subreddit(display_name='River_Plate'),\n",
       " Subreddit(display_name='chachacha'),\n",
       " Subreddit(display_name='argentinazi'),\n",
       " Subreddit(display_name='Corrientes'),\n",
       " Subreddit(display_name='ArgentinaDrama'),\n",
       " Subreddit(display_name='LGBT_de_Argentina'),\n",
       " Subreddit(display_name='Argentinacirclejerk2'),\n",
       " Subreddit(display_name='ArgenBitcoin'),\n",
       " Subreddit(display_name='expatriados'),\n",
       " Subreddit(display_name='argentina'),\n",
       " Subreddit(display_name='BuenosAires'),\n",
       " Subreddit(display_name='arggw'),\n",
       " Subreddit(display_name='Rosario'),\n",
       " Subreddit(display_name='678'),\n",
       " Subreddit(display_name='ArgenBeauty'),\n",
       " Subreddit(display_name='Mercadoreddit'),\n",
       " Subreddit(display_name='ArAutos'),\n",
       " Subreddit(display_name='dankgentina'),\n",
       " Subreddit(display_name='Roleros_Argentina'),\n",
       " Subreddit(display_name='Argaming'),\n",
       " Subreddit(display_name='notACJ'),\n",
       " Subreddit(display_name='argenpics'),\n",
       " Subreddit(display_name='Cordoba'),\n",
       " Subreddit(display_name='musicaargentina'),\n",
       " Subreddit(display_name='ArgentinaCocina')]"
      ]
     },
     "execution_count": 10,
     "metadata": {},
     "output_type": "execute_result"
    }
   ],
   "source": [
    "reddit = praw.Reddit(client_id='f_wJd_CV9WBtxg', client_secret=\"23iMmeQKcovVMizPwx_5Nn4cg5M\",\n",
    "                     password='n4JDYt34xJakggnMQD2d7kxw', user_agent='script:melis-thesis:v0.0.1 (by /u/wilburRay)',\n",
    "                     username='wilburRay')\n",
    "\n",
    "multi = reddit.multireddit('Whitestep', 'argentinahub')\n",
    "multi.subreddits"
   ]
  },
  {
   "cell_type": "code",
   "execution_count": 9,
   "metadata": {},
   "outputs": [
    {
     "data": {
      "text/plain": [
       "Subreddit(display_name='AskReddit')"
      ]
     },
     "execution_count": 9,
     "metadata": {},
     "output_type": "execute_result"
    }
   ],
   "source": [
    "import sys\n",
    "import importlib\n",
    "sys.path.append('../src/')\n",
    "import network\n",
    "import reddit\n",
    "\n",
    "network = importlib.reload(network)\n",
    "reddit = importlib.reload(reddit)\n",
    "\n",
    "reddit.reddit_api_wrapper.subreddit('AskReddit')"
   ]
  },
  {
   "cell_type": "code",
   "execution_count": null,
   "metadata": {},
   "outputs": [],
   "source": [
    "network.fetch_network('latinoamerica', max_depth=1)"
   ]
  }
 ],
 "metadata": {
  "kernelspec": {
   "display_name": "Python 3",
   "language": "python",
   "name": "python3"
  },
  "language_info": {
   "codemirror_mode": {
    "name": "ipython",
    "version": 3
   },
   "file_extension": ".py",
   "mimetype": "text/x-python",
   "name": "python",
   "nbconvert_exporter": "python",
   "pygments_lexer": "ipython3",
   "version": "3.7.3"
  }
 },
 "nbformat": 4,
 "nbformat_minor": 2
}
