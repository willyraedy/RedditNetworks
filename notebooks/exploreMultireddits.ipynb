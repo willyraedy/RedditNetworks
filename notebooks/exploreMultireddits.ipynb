{
 "cells": [
  {
   "cell_type": "code",
   "execution_count": 1,
   "metadata": {},
   "outputs": [],
   "source": [
    "import praw as praw"
   ]
  },
  {
   "cell_type": "code",
   "execution_count": 4,
   "metadata": {},
   "outputs": [],
   "source": [
    "reddit = praw.Reddit(client_id='f_wJd_CV9WBtxg', client_secret=\"23iMmeQKcovVMizPwx_5Nn4cg5M\",\n",
    "                     password='n4JDYt34xJakggnMQD2d7kxw', user_agent='script:melis-thesis:v0.0.1 (by /u/wilburRay)',\n",
    "                     username='wilburRay')\n",
    "\n",
    "multi = reddit.multireddit('Whitestep', 'argentinahub')"
   ]
  },
  {
   "cell_type": "code",
   "execution_count": 7,
   "metadata": {},
   "outputs": [
    {
     "data": {
      "text/plain": [
       "['Bariloche',\n",
       " 'Mendoza',\n",
       " 'fulbo',\n",
       " 'notArgentina',\n",
       " 'LinuxArgentina',\n",
       " 'ArgEntos',\n",
       " 'Argentinados',\n",
       " 'RepublicaArgentina',\n",
       " 'Argentinacirclejerk',\n",
       " 'empleos_AR',\n",
       " 'fceyn',\n",
       " 'buenosairesbici',\n",
       " 'River_Plate',\n",
       " 'chachacha',\n",
       " 'argentinazi',\n",
       " 'Corrientes',\n",
       " 'ArgentinaDrama',\n",
       " 'LGBT_de_Argentina',\n",
       " 'Argentinacirclejerk2',\n",
       " 'ArgenBitcoin',\n",
       " 'expatriados',\n",
       " 'argentina',\n",
       " 'BuenosAires',\n",
       " 'arggw',\n",
       " 'Rosario',\n",
       " '678',\n",
       " 'ArgenBeauty',\n",
       " 'Mercadoreddit',\n",
       " 'ArAutos',\n",
       " 'dankgentina',\n",
       " 'Roleros_Argentina',\n",
       " 'Argaming',\n",
       " 'notACJ',\n",
       " 'argenpics',\n",
       " 'Cordoba',\n",
       " 'musicaargentina',\n",
       " 'ArgentinaCocina']"
      ]
     },
     "execution_count": 7,
     "metadata": {},
     "output_type": "execute_result"
    }
   ],
   "source": [
    "list(map(lambda sub: sub.display_name, multi.subreddits))"
   ]
  },
  {
   "cell_type": "code",
   "execution_count": null,
   "metadata": {},
   "outputs": [],
   "source": []
  }
 ],
 "metadata": {
  "kernelspec": {
   "display_name": "Python 3",
   "language": "python",
   "name": "python3"
  },
  "language_info": {
   "codemirror_mode": {
    "name": "ipython",
    "version": 3
   },
   "file_extension": ".py",
   "mimetype": "text/x-python",
   "name": "python",
   "nbconvert_exporter": "python",
   "pygments_lexer": "ipython3",
   "version": "3.7.3"
  }
 },
 "nbformat": 4,
 "nbformat_minor": 2
}
