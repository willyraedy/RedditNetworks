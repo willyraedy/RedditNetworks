{
 "cells": [
  {
   "cell_type": "markdown",
   "metadata": {},
   "source": [
    "# Load DataFrames"
   ]
  },
  {
   "cell_type": "code",
   "execution_count": 1,
   "metadata": {},
   "outputs": [],
   "source": [
    "import pandas as pd\n",
    "\n",
    "in_degree_attr = pd.read_csv('../data/attributeList.csv')\n",
    "out_degree_attr = pd.read_csv('../data/outDegreeAttributeList.csv')\n",
    "\n",
    "in_degree_edge = pd.read_csv('../data/edgeList.csv')\n",
    "out_degree_edge = pd.read_csv('../data/outDegreeEdgeList.csv')"
   ]
  },
  {
   "cell_type": "markdown",
   "metadata": {},
   "source": [
    "# Merge and Persist"
   ]
  },
  {
   "cell_type": "code",
   "execution_count": 13,
   "metadata": {},
   "outputs": [],
   "source": [
    "total_attr = in_degree_attr.append(out_degree_attr).drop_duplicates(subset=['reddit_name'])\n",
    "total_attr[['reddit_name', 'desc', 'created_date', 'subs']].to_csv('../data/mergedAttributeList.csv')"
   ]
  },
  {
   "cell_type": "code",
   "execution_count": 14,
   "metadata": {},
   "outputs": [],
   "source": [
    "total_edge = in_degree_edge.append(out_degree_edge).drop_duplicates(subset=['source', 'target', 'edge_type'])\n",
    "total_edge[['source', 'source_type', 'target', 'target_type', 'edge_type', 'context']].to_csv('../data/mergedEdgeList.csv')"
   ]
  }
 ],
 "metadata": {
  "kernelspec": {
   "display_name": "Python 3",
   "language": "python",
   "name": "python3"
  },
  "language_info": {
   "codemirror_mode": {
    "name": "ipython",
    "version": 3
   },
   "file_extension": ".py",
   "mimetype": "text/x-python",
   "name": "python",
   "nbconvert_exporter": "python",
   "pygments_lexer": "ipython3",
   "version": "3.7.3"
  }
 },
 "nbformat": 4,
 "nbformat_minor": 2
}
