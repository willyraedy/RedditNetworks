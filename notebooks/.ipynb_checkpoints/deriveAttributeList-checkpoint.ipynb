{
 "cells": [
  {
   "cell_type": "markdown",
   "metadata": {},
   "source": [
    "# Load Attribute List"
   ]
  },
  {
   "cell_type": "code",
   "execution_count": 111,
   "metadata": {},
   "outputs": [],
   "source": [
    "import pandas as pd\n",
    "\n",
    "edges = pd.read_csv('../data/finalEdgeList.csv')\n",
    "ex_attr = pd.read_csv('../data/mergedAttributeList.csv')"
   ]
  },
  {
   "cell_type": "markdown",
   "metadata": {},
   "source": [
    "# Construct Attribute List"
   ]
  },
  {
   "cell_type": "code",
   "execution_count": 113,
   "metadata": {},
   "outputs": [],
   "source": [
    "source_reddits = set(edges.source.unique())\n",
    "target_reddits = set(edges.target.unique())\n",
    "all_reddits = source_reddits.union(target_reddits)\n",
    "df = pd.DataFrame(all_reddits, columns=['reddit_name'])"
   ]
  },
  {
   "cell_type": "code",
   "execution_count": 115,
   "metadata": {},
   "outputs": [
    {
     "name": "stdout",
     "output_type": "stream",
     "text": [
      "<class 'pandas.core.frame.DataFrame'>\n",
      "RangeIndex: 1866 entries, 0 to 1865\n",
      "Data columns (total 1 columns):\n",
      "reddit_name    1866 non-null object\n",
      "dtypes: object(1)\n",
      "memory usage: 14.7+ KB\n"
     ]
    }
   ],
   "source": [
    "df.info()"
   ]
  },
  {
   "cell_type": "markdown",
   "metadata": {},
   "source": [
    "# Fetch Moderators and Subscribers"
   ]
  },
  {
   "cell_type": "code",
   "execution_count": 92,
   "metadata": {},
   "outputs": [],
   "source": [
    "import sys\n",
    "sys.path.append('../src/')\n",
    "\n",
    "import reddit\n",
    "import numpy as np"
   ]
  },
  {
   "cell_type": "code",
   "execution_count": 116,
   "metadata": {},
   "outputs": [],
   "source": [
    "def fetch_attributes(reddit_name):\n",
    "    try:\n",
    "        subreddit = reddit.reddit_api_wrapper.subreddit(reddit_name)\n",
    "        subs = subreddit.subscribers\n",
    "        mods = [mod.name for mod in subreddit.moderator()]\n",
    "        desc = subreddit.public_description\n",
    "        full_desc = subreddit.description\n",
    "        created_utc = subreddit.created_utc\n",
    "\n",
    "        return (subs, mods, desc, full_desc, created_utc, np.nan)\n",
    "    except KeyboardInterrupt:\n",
    "        raise\n",
    "    except:\n",
    "        print('Error with:', reddit_name)\n",
    "        e = sys.exc_info()[0]\n",
    "        print(e)\n",
    "        return (np.nan, np.nan, np.nan, np.nan, np.nan, e)"
   ]
  },
  {
   "cell_type": "code",
   "execution_count": 117,
   "metadata": {},
   "outputs": [
    {
     "name": "stdout",
     "output_type": "stream",
     "text": [
      "Error with: reddit\n",
      "<class 'prawcore.exceptions.NotFound'>\n",
      "Error with: espaã\n",
      "<class 'prawcore.exceptions.NotFound'>\n",
      "Error with: argentinahub\n",
      "<class 'prawcore.exceptions.Redirect'>\n",
      "Error with: gendercide\n",
      "<class 'prawcore.exceptions.NotFound'>\n",
      "Error with: discerning\n",
      "<class 'prawcore.exceptions.Forbidden'>\n",
      "Error with: formato\n",
      "<class 'prawcore.exceptions.Forbidden'>\n",
      "Error with: independiente\n",
      "<class 'prawcore.exceptions.Forbidden'>\n",
      "Error with: rpg_brasilespaã\n",
      "<class 'prawcore.exceptions.NotFound'>\n",
      "Error with: lgbtq_de_argentina\n",
      "<class 'prawcore.exceptions.Redirect'>\n",
      "Error with: soprtrecife\n",
      "<class 'prawcore.exceptions.Redirect'>\n",
      "Error with: sã\n",
      "<class 'prawcore.exceptions.NotFound'>\n",
      "Error with: oxfordunitedfc\n",
      "<class 'prawcore.exceptions.Forbidden'>\n",
      "Error with: edurne\n",
      "<class 'prawcore.exceptions.Forbidden'>\n",
      "Error with: reportthespammers\n",
      "<class 'prawcore.exceptions.Forbidden'>\n",
      "Error with: calcio\n",
      "<class 'prawcore.exceptions.Forbidden'>\n",
      "Error with: modtalk\n",
      "<class 'prawcore.exceptions.Forbidden'>\n",
      "Error with: futbolmxcirclejerk\n",
      "<class 'prawcore.exceptions.Forbidden'>\n",
      "Error with: cfrcluj\n",
      "<class 'prawcore.exceptions.Forbidden'>\n",
      "Error with: plasoccer\n",
      "<class 'prawcore.exceptions.Forbidden'>\n",
      "Error with: soccercss\n",
      "<class 'prawcore.exceptions.Forbidden'>\n",
      "Error with: bbrasil\n",
      "<class 'prawcore.exceptions.Forbidden'>\n",
      "Error with: mod\n",
      "<class 'prawcore.exceptions.NotFound'>\n",
      "Error with: sa\n",
      "<class 'prawcore.exceptions.NotFound'>\n",
      "Error with: traduccion\n",
      "<class 'prawcore.exceptions.Forbidden'>\n",
      "Error with: history_mods\n",
      "<class 'prawcore.exceptions.Forbidden'>\n",
      "Error with: teoriamusical\n",
      "<class 'prawcore.exceptions.Forbidden'>\n",
      "Error with: leonesnegros\n",
      "<class 'prawcore.exceptions.Forbidden'>\n",
      "Error with: soberano\n",
      "<class 'prawcore.exceptions.Forbidden'>\n",
      "Error with: streamsoccer\n",
      "<class 'prawcore.exceptions.NotFound'>\n",
      "Error with: footballwriters\n",
      "<class 'prawcore.exceptions.Forbidden'>\n",
      "Error with: foradecada\n",
      "<class 'prawcore.exceptions.Redirect'>\n",
      "Error with: montevideo\n",
      "<class 'prawcore.exceptions.Forbidden'>\n",
      "Error with: brasil_rpg\n",
      "<class 'prawcore.exceptions.Redirect'>\n",
      "Error with: axnine\n",
      "<class 'prawcore.exceptions.Redirect'>\n",
      "Error with: forwardsdemama\n",
      "<class 'prawcore.exceptions.Forbidden'>\n",
      "Error with: ludogoretsrazgrad\n",
      "<class 'prawcore.exceptions.Forbidden'>\n",
      "Error with: a\n",
      "<class 'prawcore.exceptions.BadRequest'>\n",
      "Error with: spl\n",
      "<class 'prawcore.exceptions.Forbidden'>\n",
      "Error with: kaagent\n",
      "<class 'prawcore.exceptions.Forbidden'>\n",
      "Error with: argentinamra\n",
      "<class 'prawcore.exceptions.Forbidden'>\n",
      "Error with: ccmariners\n",
      "<class 'prawcore.exceptions.Forbidden'>\n",
      "Error with: tortagalesa\n",
      "<class 'prawcore.exceptions.Redirect'>\n",
      "Error with: el\n",
      "<class 'prawcore.exceptions.NotFound'>\n",
      "Error with: bs9kblackstar9000\n",
      "<class 'prawcore.exceptions.Redirect'>\n",
      "Error with: mã\n",
      "<class 'prawcore.exceptions.NotFound'>\n",
      "Error with: subredditname1\n",
      "<class 'prawcore.exceptions.Redirect'>\n",
      "Error with: mcmexico\n",
      "<class 'prawcore.exceptions.Forbidden'>\n",
      "Error with: luisiana\n",
      "<class 'prawcore.exceptions.Redirect'>\n",
      "Error with: seminarians\n",
      "<class 'prawcore.exceptions.Forbidden'>\n",
      "Error with: shutupandtakemygoldpieces\n",
      "<class 'prawcore.exceptions.NotFound'>\n",
      "Error with: soccerontv\n",
      "<class 'prawcore.exceptions.Forbidden'>\n",
      "Error with: naoesensacionalistaentre\n",
      "<class 'prawcore.exceptions.NotFound'>\n",
      "Error with: runningsa\n",
      "<class 'prawcore.exceptions.Forbidden'>\n",
      "Error with: martinica\n",
      "<class 'prawcore.exceptions.Redirect'>\n"
     ]
    }
   ],
   "source": [
    "results = df.reddit_name.map(fetch_attributes)"
   ]
  },
  {
   "cell_type": "code",
   "execution_count": 139,
   "metadata": {},
   "outputs": [],
   "source": [
    "import pickle\n",
    "\n",
    "with open('../data/attrScrapeResults.picle', 'wb') as write_file:\n",
    "    pickle.dump(results, write_file)"
   ]
  },
  {
   "cell_type": "markdown",
   "metadata": {},
   "source": [
    "# Add to Attribute File"
   ]
  },
  {
   "cell_type": "code",
   "execution_count": 125,
   "metadata": {},
   "outputs": [],
   "source": [
    "df['subs'] = results.map(lambda x: x[0], na_action='ignore')\n",
    "df['moderators'] = results.map(lambda x: x[1], na_action='ignore')\n",
    "df['desc'] = results.map(lambda x: x[2], na_action='ignore')\n",
    "df['full_desc'] = results.map(lambda x: x[3], na_action='ignore')\n",
    "df['created_utc'] = results.map(lambda x: x[4], na_action='ignore')\n",
    "df['error'] = results.map(lambda x: x[5], na_action='ignore')"
   ]
  },
  {
   "cell_type": "code",
   "execution_count": 127,
   "metadata": {},
   "outputs": [],
   "source": [
    "df['mod_count'] = df['moderators'].map(lambda x: len(x), na_action='ignore')"
   ]
  },
  {
   "cell_type": "markdown",
   "metadata": {},
   "source": [
    "# Remove Private Reddits"
   ]
  },
  {
   "cell_type": "code",
   "execution_count": 131,
   "metadata": {},
   "outputs": [],
   "source": [
    "valid_reddits = df[df.error.isna()]\n",
    "invalid_reddits = df[df.error.notna()]"
   ]
  },
  {
   "cell_type": "code",
   "execution_count": 132,
   "metadata": {},
   "outputs": [
    {
     "name": "stdout",
     "output_type": "stream",
     "text": [
      "(1812, 9)\n",
      "(54, 9)\n"
     ]
    }
   ],
   "source": [
    "print(valid_reddits.shape)\n",
    "print(invalid_reddits.shape)"
   ]
  },
  {
   "cell_type": "markdown",
   "metadata": {},
   "source": [
    "# Make Edge List Match"
   ]
  },
  {
   "cell_type": "code",
   "execution_count": 133,
   "metadata": {},
   "outputs": [],
   "source": [
    "valid_edges = edges[edges.target.isin(valid_reddits.reddit_name) & edges.source.isin(valid_reddits.reddit_name)]"
   ]
  },
  {
   "cell_type": "code",
   "execution_count": 135,
   "metadata": {},
   "outputs": [
    {
     "data": {
      "text/html": [
       "<div>\n",
       "<style scoped>\n",
       "    .dataframe tbody tr th:only-of-type {\n",
       "        vertical-align: middle;\n",
       "    }\n",
       "\n",
       "    .dataframe tbody tr th {\n",
       "        vertical-align: top;\n",
       "    }\n",
       "\n",
       "    .dataframe thead th {\n",
       "        text-align: right;\n",
       "    }\n",
       "</style>\n",
       "<table border=\"1\" class=\"dataframe\">\n",
       "  <thead>\n",
       "    <tr style=\"text-align: right;\">\n",
       "      <th></th>\n",
       "      <th>Unnamed: 0</th>\n",
       "      <th>source</th>\n",
       "      <th>source_type</th>\n",
       "      <th>target</th>\n",
       "      <th>target_type</th>\n",
       "      <th>edge_type</th>\n",
       "      <th>context</th>\n",
       "      <th>multi_name</th>\n",
       "    </tr>\n",
       "  </thead>\n",
       "  <tbody>\n",
       "    <tr>\n",
       "      <th>0</th>\n",
       "      <td>0</td>\n",
       "      <td>latinoamerica</td>\n",
       "      <td>r</td>\n",
       "      <td>latinoamerica</td>\n",
       "      <td>r</td>\n",
       "      <td>desc</td>\n",
       "      <td>NaN</td>\n",
       "      <td>NaN</td>\n",
       "    </tr>\n",
       "    <tr>\n",
       "      <th>1</th>\n",
       "      <td>1</td>\n",
       "      <td>latinoamerica</td>\n",
       "      <td>r</td>\n",
       "      <td>argentina</td>\n",
       "      <td>r</td>\n",
       "      <td>desc</td>\n",
       "      <td>merica&lt;/li&gt;\\n&lt;li&gt;Images macros&lt;/li&gt;\\n&lt;li&gt;Posts...</td>\n",
       "      <td>NaN</td>\n",
       "    </tr>\n",
       "    <tr>\n",
       "      <th>2</th>\n",
       "      <td>2</td>\n",
       "      <td>latinoamerica</td>\n",
       "      <td>r</td>\n",
       "      <td>bolivia</td>\n",
       "      <td>r</td>\n",
       "      <td>desc</td>\n",
       "      <td>quot;Yo cuando...&amp;quot;&lt;/li&gt;\\n&lt;/ul&gt;\\n\\n&lt;hr/&gt;\\n...</td>\n",
       "      <td>NaN</td>\n",
       "    </tr>\n",
       "    <tr>\n",
       "      <th>3</th>\n",
       "      <td>3</td>\n",
       "      <td>latinoamerica</td>\n",
       "      <td>r</td>\n",
       "      <td>brasil</td>\n",
       "      <td>r</td>\n",
       "      <td>desc</td>\n",
       "      <td>latinoamericanos&lt;/strong&gt;&lt;/p&gt;\\n\\n&lt;ul&gt;\\n&lt;li&gt;&lt;a ...</td>\n",
       "      <td>NaN</td>\n",
       "    </tr>\n",
       "    <tr>\n",
       "      <th>4</th>\n",
       "      <td>4</td>\n",
       "      <td>latinoamerica</td>\n",
       "      <td>r</td>\n",
       "      <td>chile</td>\n",
       "      <td>r</td>\n",
       "      <td>desc</td>\n",
       "      <td>dit.com/r/argentina\"&gt;r/argentina&lt;/a&gt;&lt;/li&gt;\\n&lt;li...</td>\n",
       "      <td>NaN</td>\n",
       "    </tr>\n",
       "  </tbody>\n",
       "</table>\n",
       "</div>"
      ],
      "text/plain": [
       "   Unnamed: 0         source source_type         target target_type edge_type  \\\n",
       "0           0  latinoamerica           r  latinoamerica           r      desc   \n",
       "1           1  latinoamerica           r      argentina           r      desc   \n",
       "2           2  latinoamerica           r        bolivia           r      desc   \n",
       "3           3  latinoamerica           r         brasil           r      desc   \n",
       "4           4  latinoamerica           r          chile           r      desc   \n",
       "\n",
       "                                             context multi_name  \n",
       "0                                                NaN        NaN  \n",
       "1  merica</li>\\n<li>Images macros</li>\\n<li>Posts...        NaN  \n",
       "2  quot;Yo cuando...&quot;</li>\\n</ul>\\n\\n<hr/>\\n...        NaN  \n",
       "3  latinoamericanos</strong></p>\\n\\n<ul>\\n<li><a ...        NaN  \n",
       "4  dit.com/r/argentina\">r/argentina</a></li>\\n<li...        NaN  "
      ]
     },
     "execution_count": 135,
     "metadata": {},
     "output_type": "execute_result"
    }
   ],
   "source": [
    "valid_edges.head()"
   ]
  },
  {
   "cell_type": "markdown",
   "metadata": {},
   "source": [
    "# Save Final CSVs"
   ]
  },
  {
   "cell_type": "code",
   "execution_count": 136,
   "metadata": {},
   "outputs": [],
   "source": [
    "valid_reddits[['reddit_name', 'desc', 'subs', 'mod_count']].to_csv('../data/finalAttributeList.csv')\n",
    "valid_edges[['source', 'target', 'edge_type', 'context', 'multi_name']].to_csv('../data/finalValidEdgeList.csv')\n",
    "invalid_reddits[['reddit_name', 'error']].to_csv('../data/removedReddits.csv')"
   ]
  },
  {
   "cell_type": "code",
   "execution_count": null,
   "metadata": {},
   "outputs": [],
   "source": []
  }
 ],
 "metadata": {
  "kernelspec": {
   "display_name": "Python 3",
   "language": "python",
   "name": "python3"
  },
  "language_info": {
   "codemirror_mode": {
    "name": "ipython",
    "version": 3
   },
   "file_extension": ".py",
   "mimetype": "text/x-python",
   "name": "python",
   "nbconvert_exporter": "python",
   "pygments_lexer": "ipython3",
   "version": "3.7.3"
  }
 },
 "nbformat": 4,
 "nbformat_minor": 2
}
