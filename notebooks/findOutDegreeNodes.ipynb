{
 "cells": [
  {
   "cell_type": "markdown",
   "metadata": {},
   "source": [
    "# Load Reddit Data"
   ]
  },
  {
   "cell_type": "code",
   "execution_count": 1,
   "metadata": {},
   "outputs": [],
   "source": [
    "import pickle\n",
    "import pandas as pd\n",
    "\n",
    "with open('../data/allSubredditsEnriched.pickle','rb') as read_file:\n",
    "    all_subreddits = pickle.load(read_file)"
   ]
  },
  {
   "cell_type": "markdown",
   "metadata": {},
   "source": [
    "# Define \"Core\" Network"
   ]
  },
  {
   "cell_type": "code",
   "execution_count": 2,
   "metadata": {},
   "outputs": [],
   "source": [
    "network_seed_list = [\n",
    "'r/latinoamerica',\n",
    "'r/argentina',\n",
    "'r/bolivia',\n",
    "'r/brasil',\n",
    "'r/chile',\n",
    "'r/colombia',\n",
    "'r/costa_rica',\n",
    "'r/cuba',\n",
    "'r/dominican',\n",
    "'r/ecuador',\n",
    "'r/estadosunidos',\n",
    "'r/elsalvador',\n",
    "'r/es',\n",
    "'r/guatemala',\n",
    "'r/honduras',\n",
    "'r/mexico',\n",
    "'r/nicaragua',\n",
    "'r/panama',\n",
    "'r/paraguay',\n",
    "'r/peru',\n",
    "'r/puertorico',\n",
    "'r/spain',\n",
    "'r/uruguay',\n",
    "'r/venezuela',\n",
    "'r/LatinAmerica',\n",
    "'r/redditores',\n",
    "'r/espanol',\n",
    "'r/catolicismo',\n",
    "'r/futbol',\n",
    "'r/videojuego',\n",
    "'r/musicaenespanol',\n",
    "]"
   ]
  },
  {
   "cell_type": "markdown",
   "metadata": {},
   "source": [
    "# Find Out Degree Nodes"
   ]
  },
  {
   "cell_type": "code",
   "execution_count": null,
   "metadata": {},
   "outputs": [],
   "source": [
    "import re\n",
    "\n",
    "with_word_breaks = list(map(lambda w: r'\\b' + w + r'\\b', network_seed_list))\n",
    "regex = re.compile('|'.join(with_word_breaks))\n",
    "\n",
    "def filter_network_reddits(dataframe):\n",
    "    return dataframe[dataframe['description_html'].str.contains(regex, na=False) | dataframe['wiki_text'].str.contains(regex, na=False)]"
   ]
  },
  {
   "cell_type": "code",
   "execution_count": 4,
   "metadata": {},
   "outputs": [],
   "source": [
    "out_degree = filter_network_reddits(all_subreddits)"
   ]
  },
  {
   "cell_type": "markdown",
   "metadata": {},
   "source": [
    "# Create Edges and Attribute List"
   ]
  },
  {
   "cell_type": "code",
   "execution_count": 12,
   "metadata": {},
   "outputs": [],
   "source": [
    "formatted = out_degree.reset_index().rename(columns={ 'real_name': 'reddit_name' })"
   ]
  },
  {
   "cell_type": "code",
   "execution_count": 13,
   "metadata": {},
   "outputs": [],
   "source": [
    "import sys\n",
    "import importlib\n",
    "sys.path.append('../src/')\n",
    "\n",
    "import reddit\n",
    "reddit = importlib.reload(reddit)\n",
    "\n",
    "import network\n",
    "network = importlib.reload(network)\n",
    "\n",
    "reddit_list = list(formatted['reddit_name'])\n",
    "edges = list(map(lambda name: network.find_edges(reddit_name=name, reddit_type='r', dataframe=all_subreddits, depth='out_degree'), reddit_list))"
   ]
  },
  {
   "cell_type": "code",
   "execution_count": 23,
   "metadata": {},
   "outputs": [],
   "source": [
    "import pandas as pd\n",
    "\n",
    "flattened_edges = [y for x in edges for y in x]\n",
    "df = pd.DataFrame(flattened_edges)"
   ]
  },
  {
   "cell_type": "code",
   "execution_count": 28,
   "metadata": {},
   "outputs": [],
   "source": [
    "edges_to_core_network = df[df['reddit'].isin(list(map(lambda s: s[2:], network_seed_list)))]"
   ]
  },
  {
   "cell_type": "code",
   "execution_count": 38,
   "metadata": {},
   "outputs": [],
   "source": [
    "renamed = edges_to_core_network.rename(columns={ 'parent': 'source', 'type_of_parent': 'source_type', 'reddit': 'target', 'type_of_reddit': 'target_type', 'type_of_edge': 'edge_type' })\n",
    "deduped = renamed.drop_duplicates(subset=['source', 'target', 'edge_type'])\n",
    "deduped[['source', 'source_type', 'target', 'target_type', 'edge_type', 'context']].to_csv('../data/outDegreeEdgeList.csv')"
   ]
  },
  {
   "cell_type": "code",
   "execution_count": 41,
   "metadata": {},
   "outputs": [],
   "source": [
    "reddits_in_edge_list = formatted[formatted['reddit_name'].isin(edges_to_core_network.source.unique())]\n",
    "reddits_in_edge_list[['reddit_name', 'desc', 'created_date', 'subs']].to_csv('../data/outDegreeAttributeList.csv')"
   ]
  },
  {
   "cell_type": "code",
   "execution_count": null,
   "metadata": {},
   "outputs": [],
   "source": []
  }
 ],
 "metadata": {
  "kernelspec": {
   "display_name": "Python 3",
   "language": "python",
   "name": "python3"
  },
  "language_info": {
   "codemirror_mode": {
    "name": "ipython",
    "version": 3
   },
   "file_extension": ".py",
   "mimetype": "text/x-python",
   "name": "python",
   "nbconvert_exporter": "python",
   "pygments_lexer": "ipython3",
   "version": "3.7.3"
  }
 },
 "nbformat": 4,
 "nbformat_minor": 2
}
