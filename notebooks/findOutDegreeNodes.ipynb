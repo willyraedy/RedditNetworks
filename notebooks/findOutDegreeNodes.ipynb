{
 "cells": [
  {
   "cell_type": "markdown",
   "metadata": {},
   "source": [
    "# Load Reddit Data"
   ]
  },
  {
   "cell_type": "code",
   "execution_count": 1,
   "metadata": {},
   "outputs": [],
   "source": [
    "import pickle\n",
    "import pandas as pd\n",
    "\n",
    "with open('../data/allSubredditsEnriched.pickle','rb') as read_file:\n",
    "    all_subreddits = pickle.load(read_file)"
   ]
  },
  {
   "cell_type": "markdown",
   "metadata": {},
   "source": [
    "# Define \"Core\" Network"
   ]
  },
  {
   "cell_type": "code",
   "execution_count": 2,
   "metadata": {},
   "outputs": [],
   "source": [
    "network_seed_list = [\n",
    "'r/latinoamerica',\n",
    "'r/argentina',\n",
    "'r/bolivia',\n",
    "'r/brasil',\n",
    "'r/chile',\n",
    "'r/colombia',\n",
    "'r/costa_rica',\n",
    "'r/cuba',\n",
    "'r/dominican',\n",
    "'r/ecuador',\n",
    "'r/estadosunidos',\n",
    "'r/elsalvador',\n",
    "'r/es',\n",
    "'r/guatemala',\n",
    "'r/honduras',\n",
    "'r/mexico',\n",
    "'r/nicaragua',\n",
    "'r/panama',\n",
    "'r/paraguay',\n",
    "'r/peru',\n",
    "'r/puertorico',\n",
    "'r/spain',\n",
    "'r/uruguay',\n",
    "'r/venezuela',\n",
    "'r/LatinAmerica',\n",
    "'r/redditores',\n",
    "'r/espanol',\n",
    "'r/catolicismo',\n",
    "'r/futbol',\n",
    "'r/videojuego',\n",
    "'r/musicaenespanol',\n",
    "]"
   ]
  },
  {
   "cell_type": "markdown",
   "metadata": {},
   "source": [
    "# Find Nodes"
   ]
  },
  {
   "cell_type": "code",
   "execution_count": 3,
   "metadata": {},
   "outputs": [
    {
     "name": "stdout",
     "output_type": "stream",
     "text": [
      "['\\\\br/latinoamerica\\\\b', '\\\\br/argentina\\\\b', '\\\\br/bolivia\\\\b', '\\\\br/brasil\\\\b', '\\\\br/chile\\\\b', '\\\\br/colombia\\\\b', '\\\\br/costa_rica\\\\b', '\\\\br/cuba\\\\b', '\\\\br/dominican\\\\b', '\\\\br/ecuador\\\\b', '\\\\br/estadosunidos\\\\b', '\\\\br/elsalvador\\\\b', '\\\\br/es\\\\b', '\\\\br/guatemala\\\\b', '\\\\br/honduras\\\\b', '\\\\br/mexico\\\\b', '\\\\br/nicaragua\\\\b', '\\\\br/panama\\\\b', '\\\\br/paraguay\\\\b', '\\\\br/peru\\\\b', '\\\\br/puertorico\\\\b', '\\\\br/spain\\\\b', '\\\\br/uruguay\\\\b', '\\\\br/venezuela\\\\b', '\\\\br/LatinAmerica\\\\b', '\\\\br/redditores\\\\b', '\\\\br/espanol\\\\b', '\\\\br/catolicismo\\\\b', '\\\\br/futbol\\\\b', '\\\\br/videojuego\\\\b', '\\\\br/musicaenespanol\\\\b']\n"
     ]
    }
   ],
   "source": [
    "import re\n",
    "\n",
    "with_word_breaks = list(map(lambda w: r'\\b' + w + r'\\b', network_seed_list))\n",
    "print(with_word_breaks)\n",
    "regex = re.compile('|'.join(with_word_breaks))\n",
    "\n",
    "def filter_network_reddits(dataframe):\n",
    "    return dataframe[dataframe['description_html'].str.contains(regex, na=False) | dataframe['wiki_text'].str.contains(regex, na=False)]"
   ]
  },
  {
   "cell_type": "code",
   "execution_count": 4,
   "metadata": {},
   "outputs": [],
   "source": [
    "out_degree = filter_network_reddits(all_subreddits)"
   ]
  },
  {
   "cell_type": "code",
   "execution_count": 6,
   "metadata": {},
   "outputs": [
    {
     "name": "stdout",
     "output_type": "stream",
     "text": [
      "<class 'pandas.core.frame.DataFrame'>\n",
      "Index: 650 entries, niobio to Tarragona\n",
      "Data columns (total 8 columns):\n",
      "Unnamed: 0          650 non-null int64\n",
      "Unnamed: 0.1        650 non-null int64\n",
      "Unnamed: 0.1.1      650 non-null int64\n",
      "desc                550 non-null object\n",
      "created_date        650 non-null object\n",
      "subs                650 non-null int64\n",
      "description_html    649 non-null object\n",
      "wiki_text           86 non-null object\n",
      "dtypes: int64(4), object(4)\n",
      "memory usage: 45.7+ KB\n"
     ]
    }
   ],
   "source": [
    "out_degree.info()"
   ]
  },
  {
   "cell_type": "markdown",
   "metadata": {},
   "source": [
    "# Create Edges and Attribute List"
   ]
  },
  {
   "cell_type": "code",
   "execution_count": 12,
   "metadata": {},
   "outputs": [],
   "source": [
    "formatted = out_degree.reset_index().rename(columns={ 'real_name': 'reddit_name' })"
   ]
  },
  {
   "cell_type": "code",
   "execution_count": 13,
   "metadata": {},
   "outputs": [],
   "source": [
    "import sys\n",
    "import importlib\n",
    "sys.path.append('../src/')\n",
    "\n",
    "import reddit\n",
    "reddit = importlib.reload(reddit)\n",
    "\n",
    "import network\n",
    "network = importlib.reload(network)\n",
    "\n",
    "reddit_list = list(formatted['reddit_name'])\n",
    "edges = list(map(lambda name: network.find_edges(reddit_name=name, reddit_type='r', dataframe=all_subreddits, depth='out_degree'), reddit_list))"
   ]
  },
  {
   "cell_type": "code",
   "execution_count": 23,
   "metadata": {},
   "outputs": [],
   "source": [
    "import pandas as pd\n",
    "\n",
    "flattened_edges = [y for x in edges for y in x]\n",
    "df = pd.DataFrame(flattened_edges)"
   ]
  },
  {
   "cell_type": "code",
   "execution_count": 28,
   "metadata": {},
   "outputs": [],
   "source": [
    "edges_to_core_network = df[df['reddit'].isin(list(map(lambda s: s[2:], network_seed_list)))]"
   ]
  },
  {
   "cell_type": "code",
   "execution_count": 38,
   "metadata": {},
   "outputs": [],
   "source": [
    "renamed = edges_to_core_network.rename(columns={ 'parent': 'source', 'type_of_parent': 'source_type', 'reddit': 'target', 'type_of_reddit': 'target_type', 'type_of_edge': 'edge_type' })\n",
    "deduped = renamed.drop_duplicates(subset=['source', 'target', 'edge_type'])\n",
    "deduped[['source', 'source_type', 'target', 'target_type', 'edge_type', 'context']].to_csv('../data/outDegreeEdgeList.csv')"
   ]
  },
  {
   "cell_type": "code",
   "execution_count": 41,
   "metadata": {},
   "outputs": [],
   "source": [
    "reddits_in_edge_list = formatted[formatted['reddit_name'].isin(edges_to_core_network.source.unique())]\n",
    "reddits_in_edge_list[['reddit_name', 'desc', 'created_date', 'subs']].to_csv('../data/outDegreeAttributeList.csv')"
   ]
  },
  {
   "cell_type": "code",
   "execution_count": 44,
   "metadata": {},
   "outputs": [
    {
     "data": {
      "text/html": [
       "<div>\n",
       "<style scoped>\n",
       "    .dataframe tbody tr th:only-of-type {\n",
       "        vertical-align: middle;\n",
       "    }\n",
       "\n",
       "    .dataframe tbody tr th {\n",
       "        vertical-align: top;\n",
       "    }\n",
       "\n",
       "    .dataframe thead th {\n",
       "        text-align: right;\n",
       "    }\n",
       "</style>\n",
       "<table border=\"1\" class=\"dataframe\">\n",
       "  <thead>\n",
       "    <tr style=\"text-align: right;\">\n",
       "      <th></th>\n",
       "      <th>reddit_name</th>\n",
       "      <th>Unnamed: 0</th>\n",
       "      <th>Unnamed: 0.1</th>\n",
       "      <th>Unnamed: 0.1.1</th>\n",
       "      <th>desc</th>\n",
       "      <th>created_date</th>\n",
       "      <th>subs</th>\n",
       "      <th>description_html</th>\n",
       "      <th>wiki_text</th>\n",
       "    </tr>\n",
       "  </thead>\n",
       "  <tbody>\n",
       "    <tr>\n",
       "      <th>0</th>\n",
       "      <td>niobio</td>\n",
       "      <td>20610</td>\n",
       "      <td>20610</td>\n",
       "      <td>1201335</td>\n",
       "      <td>NaN</td>\n",
       "      <td>2017-10-13</td>\n",
       "      <td>4</td>\n",
       "      <td>&lt;!-- SC_OFF --&gt;&lt;div class=\"md\"&gt;&lt;h1&gt;&lt;a href=\"/r...</td>\n",
       "      <td>NaN</td>\n",
       "    </tr>\n",
       "    <tr>\n",
       "      <th>1</th>\n",
       "      <td>brasilbackup</td>\n",
       "      <td>29262</td>\n",
       "      <td>29262</td>\n",
       "      <td>1209987</td>\n",
       "      <td>Fa&amp;ccedil;a backup antes de jogar algo pouco t...</td>\n",
       "      <td>2017-10-30</td>\n",
       "      <td>2</td>\n",
       "      <td>&lt;!-- SC_OFF --&gt;&lt;div class=\"md\"&gt;&lt;h4&gt;&lt;em&gt;(banner...</td>\n",
       "      <td>NaN</td>\n",
       "    </tr>\n",
       "    <tr>\n",
       "      <th>2</th>\n",
       "      <td>Tabarnia</td>\n",
       "      <td>47152</td>\n",
       "      <td>47152</td>\n",
       "      <td>1227877</td>\n",
       "      <td>Comunidad Aut&amp;oacute;noma de Tabarnia - Acta e...</td>\n",
       "      <td>2017-12-26</td>\n",
       "      <td>305</td>\n",
       "      <td>&lt;!-- SC_OFF --&gt;&lt;div class=\"md\"&gt;&lt;p&gt;&lt;strong&gt;Bien...</td>\n",
       "      <td>NaN</td>\n",
       "    </tr>\n",
       "    <tr>\n",
       "      <th>3</th>\n",
       "      <td>SpainAuxiliares</td>\n",
       "      <td>74545</td>\n",
       "      <td>74545</td>\n",
       "      <td>1255270</td>\n",
       "      <td>This subreddit is a gathering place for past, ...</td>\n",
       "      <td>2018-03-13</td>\n",
       "      <td>437</td>\n",
       "      <td>&lt;!-- SC_OFF --&gt;&lt;div class=\"md\"&gt;&lt;p&gt;&lt;em&gt;This sub...</td>\n",
       "      <td>NaN</td>\n",
       "    </tr>\n",
       "    <tr>\n",
       "      <th>4</th>\n",
       "      <td>capitalistmexico</td>\n",
       "      <td>80352</td>\n",
       "      <td>80352</td>\n",
       "      <td>1261077</td>\n",
       "      <td>While /r/mexico is nice, it not sufficient sin...</td>\n",
       "      <td>2018-03-24</td>\n",
       "      <td>2</td>\n",
       "      <td>&lt;!-- SC_OFF --&gt;&lt;div class=\"md\"&gt;&lt;p&gt;While &lt;a hre...</td>\n",
       "      <td>NaN</td>\n",
       "    </tr>\n",
       "  </tbody>\n",
       "</table>\n",
       "</div>"
      ],
      "text/plain": [
       "        reddit_name  Unnamed: 0  Unnamed: 0.1  Unnamed: 0.1.1  \\\n",
       "0            niobio       20610         20610         1201335   \n",
       "1      brasilbackup       29262         29262         1209987   \n",
       "2          Tabarnia       47152         47152         1227877   \n",
       "3   SpainAuxiliares       74545         74545         1255270   \n",
       "4  capitalistmexico       80352         80352         1261077   \n",
       "\n",
       "                                                desc created_date  subs  \\\n",
       "0                                                NaN   2017-10-13     4   \n",
       "1  Fa&ccedil;a backup antes de jogar algo pouco t...   2017-10-30     2   \n",
       "2  Comunidad Aut&oacute;noma de Tabarnia - Acta e...   2017-12-26   305   \n",
       "3  This subreddit is a gathering place for past, ...   2018-03-13   437   \n",
       "4  While /r/mexico is nice, it not sufficient sin...   2018-03-24     2   \n",
       "\n",
       "                                    description_html wiki_text  \n",
       "0  <!-- SC_OFF --><div class=\"md\"><h1><a href=\"/r...       NaN  \n",
       "1  <!-- SC_OFF --><div class=\"md\"><h4><em>(banner...       NaN  \n",
       "2  <!-- SC_OFF --><div class=\"md\"><p><strong>Bien...       NaN  \n",
       "3  <!-- SC_OFF --><div class=\"md\"><p><em>This sub...       NaN  \n",
       "4  <!-- SC_OFF --><div class=\"md\"><p>While <a hre...       NaN  "
      ]
     },
     "execution_count": 44,
     "metadata": {},
     "output_type": "execute_result"
    }
   ],
   "source": [
    "reddits_in_edge_list.head()"
   ]
  },
  {
   "cell_type": "code",
   "execution_count": null,
   "metadata": {},
   "outputs": [],
   "source": []
  }
 ],
 "metadata": {
  "kernelspec": {
   "display_name": "Python 3",
   "language": "python",
   "name": "python3"
  },
  "language_info": {
   "codemirror_mode": {
    "name": "ipython",
    "version": 3
   },
   "file_extension": ".py",
   "mimetype": "text/x-python",
   "name": "python",
   "nbconvert_exporter": "python",
   "pygments_lexer": "ipython3",
   "version": "3.7.3"
  }
 },
 "nbformat": 4,
 "nbformat_minor": 2
}
