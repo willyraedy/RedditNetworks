{
 "cells": [
  {
   "cell_type": "markdown",
   "metadata": {},
   "source": [
    "# Extract from GCP"
   ]
  },
  {
   "cell_type": "code",
   "execution_count": null,
   "metadata": {},
   "outputs": [],
   "source": [
    "import sys\n",
    "!{sys.executable} -m pip install --upgrade google-cloud-storage\n",
    "!{sys.executable} -m pip install --upgrade gcsfs\n",
    "%env GOOGLE_APPLICATION_CREDENTIALS=/Users/willyraedy/Sync/SideProjects/RedditResearch/credentials-ebeb319739c4.json\n",
    "import pandas as pd\n",
    "import pickle\n",
    "\n",
    "raw_df = pd.read_csv('gs://meli_thesis/All_Subreddits_With_Desc_And_Wikis', encoding='latin1')\n",
    "df = raw_df.set_index('real_name')\n",
    "with open('../data/allSubredditsEnriched.pickle', 'wb') as to_write:\n",
    "    pickle.dump(df, to_write)"
   ]
  },
  {
   "cell_type": "markdown",
   "metadata": {},
   "source": [
    "# Load Raw Dataframes"
   ]
  },
  {
   "cell_type": "code",
   "execution_count": 4,
   "metadata": {},
   "outputs": [],
   "source": [
    "import pickle\n",
    "import pandas as pd\n",
    "\n",
    "with open('../data/allSubredditsEnriched.pickle','rb') as read_file:\n",
    "    all_subreddits = pickle.load(read_file)"
   ]
  },
  {
   "cell_type": "code",
   "execution_count": 5,
   "metadata": {},
   "outputs": [],
   "source": [
    "import pandas as pd\n",
    "\n",
    "raw_excluded_subreddits = pd.read_csv('../data/manuallyExcluded.csv', encoding='latin1')"
   ]
  },
  {
   "cell_type": "markdown",
   "metadata": {},
   "source": [
    "# Create List of Manually Excluded Reddits"
   ]
  },
  {
   "cell_type": "code",
   "execution_count": 6,
   "metadata": {},
   "outputs": [],
   "source": [
    "excluded_list = raw_excluded_subreddits[raw_excluded_subreddits['Manually Exclude'] == 1].Subreddit.str[:-2]"
   ]
  },
  {
   "cell_type": "markdown",
   "metadata": {},
   "source": [
    "# Create Network"
   ]
  },
  {
   "cell_type": "code",
   "execution_count": 2,
   "metadata": {},
   "outputs": [],
   "source": [
    "import sys\n",
    "import importlib\n",
    "sys.path.append('../src/')\n",
    "\n",
    "import reddit\n",
    "reddit = importlib.reload(reddit)\n",
    "\n",
    "import network\n",
    "network = importlib.reload(network)\n",
    "\n",
    "net = network.fetch_network(reddit_name='latinoamerica', dataframe=all_subreddits, max_depth=3, excluded_list=list(excluded_list))\n",
    "df = pd.DataFrame(net)"
   ]
  },
  {
   "cell_type": "markdown",
   "metadata": {},
   "source": [
    "# Convert Network to Edge List CSV Files"
   ]
  },
  {
   "cell_type": "code",
   "execution_count": 101,
   "metadata": {},
   "outputs": [
    {
     "data": {
      "text/html": [
       "<div>\n",
       "<style scoped>\n",
       "    .dataframe tbody tr th:only-of-type {\n",
       "        vertical-align: middle;\n",
       "    }\n",
       "\n",
       "    .dataframe tbody tr th {\n",
       "        vertical-align: top;\n",
       "    }\n",
       "\n",
       "    .dataframe thead th {\n",
       "        text-align: right;\n",
       "    }\n",
       "</style>\n",
       "<table border=\"1\" class=\"dataframe\">\n",
       "  <thead>\n",
       "    <tr style=\"text-align: right;\">\n",
       "      <th></th>\n",
       "      <th>context</th>\n",
       "      <th>depth</th>\n",
       "      <th>multi_reddit_user</th>\n",
       "      <th>parent</th>\n",
       "      <th>parent_multi_user</th>\n",
       "      <th>reddit</th>\n",
       "      <th>type_of_edge</th>\n",
       "      <th>type_of_parent</th>\n",
       "      <th>type_of_reddit</th>\n",
       "    </tr>\n",
       "  </thead>\n",
       "  <tbody>\n",
       "    <tr>\n",
       "      <th>0</th>\n",
       "      <td></td>\n",
       "      <td>1</td>\n",
       "      <td>None</td>\n",
       "      <td>latinoamerica</td>\n",
       "      <td>None</td>\n",
       "      <td>latinoamerica</td>\n",
       "      <td>desc</td>\n",
       "      <td>r</td>\n",
       "      <td>r</td>\n",
       "    </tr>\n",
       "    <tr>\n",
       "      <th>1</th>\n",
       "      <td></td>\n",
       "      <td>1</td>\n",
       "      <td>None</td>\n",
       "      <td>latinoamerica</td>\n",
       "      <td>None</td>\n",
       "      <td>latinoamerica</td>\n",
       "      <td>desc</td>\n",
       "      <td>r</td>\n",
       "      <td>r</td>\n",
       "    </tr>\n",
       "    <tr>\n",
       "      <th>2</th>\n",
       "      <td>merica&lt;/li&gt;\\n&lt;li&gt;Images macros&lt;/li&gt;\\n&lt;li&gt;Posts...</td>\n",
       "      <td>1</td>\n",
       "      <td>None</td>\n",
       "      <td>latinoamerica</td>\n",
       "      <td>None</td>\n",
       "      <td>argentina</td>\n",
       "      <td>desc</td>\n",
       "      <td>r</td>\n",
       "      <td>r</td>\n",
       "    </tr>\n",
       "    <tr>\n",
       "      <th>3</th>\n",
       "      <td>quot;Yo cuando...&amp;quot;&lt;/li&gt;\\n&lt;/ul&gt;\\n\\n&lt;hr/&gt;\\n...</td>\n",
       "      <td>1</td>\n",
       "      <td>None</td>\n",
       "      <td>latinoamerica</td>\n",
       "      <td>None</td>\n",
       "      <td>bolivia</td>\n",
       "      <td>desc</td>\n",
       "      <td>r</td>\n",
       "      <td>r</td>\n",
       "    </tr>\n",
       "    <tr>\n",
       "      <th>4</th>\n",
       "      <td>latinoamericanos&lt;/strong&gt;&lt;/p&gt;\\n\\n&lt;ul&gt;\\n&lt;li&gt;&lt;a ...</td>\n",
       "      <td>1</td>\n",
       "      <td>None</td>\n",
       "      <td>latinoamerica</td>\n",
       "      <td>None</td>\n",
       "      <td>brasil</td>\n",
       "      <td>desc</td>\n",
       "      <td>r</td>\n",
       "      <td>r</td>\n",
       "    </tr>\n",
       "  </tbody>\n",
       "</table>\n",
       "</div>"
      ],
      "text/plain": [
       "                                             context  depth multi_reddit_user  \\\n",
       "0                                                         1              None   \n",
       "1                                                         1              None   \n",
       "2  merica</li>\\n<li>Images macros</li>\\n<li>Posts...      1              None   \n",
       "3  quot;Yo cuando...&quot;</li>\\n</ul>\\n\\n<hr/>\\n...      1              None   \n",
       "4  latinoamericanos</strong></p>\\n\\n<ul>\\n<li><a ...      1              None   \n",
       "\n",
       "          parent parent_multi_user         reddit type_of_edge type_of_parent  \\\n",
       "0  latinoamerica              None  latinoamerica         desc              r   \n",
       "1  latinoamerica              None  latinoamerica         desc              r   \n",
       "2  latinoamerica              None      argentina         desc              r   \n",
       "3  latinoamerica              None        bolivia         desc              r   \n",
       "4  latinoamerica              None         brasil         desc              r   \n",
       "\n",
       "  type_of_reddit  \n",
       "0              r  \n",
       "1              r  \n",
       "2              r  \n",
       "3              r  \n",
       "4              r  "
      ]
     },
     "execution_count": 101,
     "metadata": {},
     "output_type": "execute_result"
    }
   ],
   "source": [
    "df.head()"
   ]
  },
  {
   "cell_type": "code",
   "execution_count": 62,
   "metadata": {},
   "outputs": [],
   "source": [
    "df.rename(columns={ 'parent': 'source', 'type_of_parent': 'source_type', 'reddit': 'target', 'type': 'edge_type' }, inplace=True)"
   ]
  },
  {
   "cell_type": "code",
   "execution_count": 67,
   "metadata": {},
   "outputs": [],
   "source": [
    "df[['source', 'source_type', 'target', 'edge_type', 'context']].to_csv('gs://meli_thesis/results/edgeList.csv')"
   ]
  },
  {
   "cell_type": "code",
   "execution_count": 69,
   "metadata": {},
   "outputs": [],
   "source": [
    "unique_network_reddits = df.target.unique()"
   ]
  },
  {
   "cell_type": "code",
   "execution_count": 85,
   "metadata": {},
   "outputs": [],
   "source": [
    "attribute_list = pd.DataFrame(unique_network_reddits)"
   ]
  },
  {
   "cell_type": "code",
   "execution_count": 91,
   "metadata": {},
   "outputs": [],
   "source": [
    "attribute_list = attribute_list.merge(all_subreddits.reset_index(), how='left', left_on=0, right_on='real_name')"
   ]
  },
  {
   "cell_type": "code",
   "execution_count": 95,
   "metadata": {},
   "outputs": [],
   "source": [
    "attribute_list[['real_name', 'desc', 'created_date', 'subs']].to_csv('gs://meli_thesis/results/attributeList.csv')"
   ]
  }
 ],
 "metadata": {
  "kernelspec": {
   "display_name": "Python 3",
   "language": "python",
   "name": "python3"
  },
  "language_info": {
   "codemirror_mode": {
    "name": "ipython",
    "version": 3
   },
   "file_extension": ".py",
   "mimetype": "text/x-python",
   "name": "python",
   "nbconvert_exporter": "python",
   "pygments_lexer": "ipython3",
   "version": "3.7.3"
  }
 },
 "nbformat": 4,
 "nbformat_minor": 2
}
