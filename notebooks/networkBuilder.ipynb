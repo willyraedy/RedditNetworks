{
 "cells": [
  {
   "cell_type": "markdown",
   "metadata": {},
   "source": [
    "# Extract from GCP"
   ]
  },
  {
   "cell_type": "code",
   "execution_count": null,
   "metadata": {},
   "outputs": [],
   "source": [
    "import sys\n",
    "!{sys.executable} -m pip install --upgrade google-cloud-storage\n",
    "!{sys.executable} -m pip install --upgrade gcsfs\n",
    "%env GOOGLE_APPLICATION_CREDENTIALS=/Users/willyraedy/Sync/SideProjects/RedditResearch/credentials-ebeb319739c4.json\n",
    "import pandas as pd\n",
    "import pickle\n",
    "\n",
    "raw_df = pd.read_csv('gs://meli_thesis/All_Subreddits_With_Desc_And_Wikis', encoding='latin1')\n",
    "df = raw_df.set_index('real_name')\n",
    "with open('../data/allSubredditsEnriched.pickle', 'wb') as to_write:\n",
    "    pickle.dump(df, to_write)"
   ]
  },
  {
   "cell_type": "markdown",
   "metadata": {},
   "source": [
    "# Load Raw Dataframes"
   ]
  },
  {
   "cell_type": "code",
   "execution_count": 4,
   "metadata": {},
   "outputs": [],
   "source": [
    "import pickle\n",
    "import pandas as pd\n",
    "\n",
    "with open('../data/allSubredditsEnriched.pickle','rb') as read_file:\n",
    "    all_subreddits = pickle.load(read_file)"
   ]
  },
  {
   "cell_type": "code",
   "execution_count": 5,
   "metadata": {},
   "outputs": [],
   "source": [
    "import pandas as pd\n",
    "\n",
    "raw_excluded_subreddits = pd.read_csv('../data/manuallyExcluded.csv', encoding='latin1')"
   ]
  },
  {
   "cell_type": "markdown",
   "metadata": {},
   "source": [
    "# Create List of Manually Excluded Reddits"
   ]
  },
  {
   "cell_type": "code",
   "execution_count": 6,
   "metadata": {},
   "outputs": [],
   "source": [
    "excluded_list = raw_excluded_subreddits[raw_excluded_subreddits['Manually Exclude'] == 1].Subreddit.str[:-2]"
   ]
  },
  {
   "cell_type": "markdown",
   "metadata": {},
   "source": [
    "# Create Network"
   ]
  },
  {
   "cell_type": "code",
   "execution_count": 2,
   "metadata": {},
   "outputs": [],
   "source": [
    "import sys\n",
    "import importlib\n",
    "sys.path.append('../src/')\n",
    "\n",
    "import reddit\n",
    "reddit = importlib.reload(reddit)\n",
    "\n",
    "import network\n",
    "network = importlib.reload(network)\n",
    "\n",
    "net = network.fetch_network(reddit_name='latinoamerica', dataframe=all_subreddits, max_depth=3, excluded_list=list(excluded_list))\n",
    "df = pd.DataFrame(net)"
   ]
  },
  {
   "cell_type": "markdown",
   "metadata": {},
   "source": [
    "# Convert Network to Edge List CSV Files"
   ]
  },
  {
   "cell_type": "code",
   "execution_count": 102,
   "metadata": {},
   "outputs": [],
   "source": [
    "df.rename(columns={ 'parent': 'source', 'type_of_parent': 'source_type', 'reddit': 'target', 'type_of_reddit': 'target_type', 'type_of_edge': 'edge_type' }, inplace=True)\n",
    "deduped = df.drop_duplicates(subset=['source', 'target', 'edge_type'])\n",
    "deduped[['source', 'source_type', 'target', 'target_type', 'edge_type', 'context']].to_csv('../data/edgeList.csv')"
   ]
  },
  {
   "cell_type": "code",
   "execution_count": 110,
   "metadata": {},
   "outputs": [],
   "source": [
    "unique_network_reddits = df.target.unique()\n",
    "attribute_list = pd.DataFrame(unique_network_reddits)\n",
    "attribute_list = attribute_list.merge(all_subreddits.reset_index(), how='left', left_on=0, right_on='real_name')\n",
    "attribute_list[['real_name', 'desc', 'created_date', 'subs']].to_csv('../data/attributeList.csv')"
   ]
  }
 ],
 "metadata": {
  "kernelspec": {
   "display_name": "Python 3",
   "language": "python",
   "name": "python3"
  },
  "language_info": {
   "codemirror_mode": {
    "name": "ipython",
    "version": 3
   },
   "file_extension": ".py",
   "mimetype": "text/x-python",
   "name": "python",
   "nbconvert_exporter": "python",
   "pygments_lexer": "ipython3",
   "version": "3.7.3"
  }
 },
 "nbformat": 4,
 "nbformat_minor": 2
}
