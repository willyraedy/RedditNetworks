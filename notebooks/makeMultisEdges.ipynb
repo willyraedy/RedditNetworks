{
 "cells": [
  {
   "cell_type": "markdown",
   "metadata": {},
   "source": [
    "# Load Edge List"
   ]
  },
  {
   "cell_type": "code",
   "execution_count": 2,
   "metadata": {},
   "outputs": [],
   "source": [
    "import pandas as pd\n",
    "import sys\n",
    "sys.path.append('./src')\n",
    "\n",
    "edge_list = pd.read_csv('../data/mergedEdgeList.csv')"
   ]
  },
  {
   "cell_type": "code",
   "execution_count": 36,
   "metadata": {},
   "outputs": [
    {
     "data": {
      "text/html": [
       "<div>\n",
       "<style scoped>\n",
       "    .dataframe tbody tr th:only-of-type {\n",
       "        vertical-align: middle;\n",
       "    }\n",
       "\n",
       "    .dataframe tbody tr th {\n",
       "        vertical-align: top;\n",
       "    }\n",
       "\n",
       "    .dataframe thead th {\n",
       "        text-align: right;\n",
       "    }\n",
       "</style>\n",
       "<table border=\"1\" class=\"dataframe\">\n",
       "  <thead>\n",
       "    <tr style=\"text-align: right;\">\n",
       "      <th></th>\n",
       "      <th>Unnamed: 0</th>\n",
       "      <th>source</th>\n",
       "      <th>source_type</th>\n",
       "      <th>target</th>\n",
       "      <th>target_type</th>\n",
       "      <th>edge_type</th>\n",
       "      <th>context</th>\n",
       "    </tr>\n",
       "  </thead>\n",
       "  <tbody>\n",
       "    <tr>\n",
       "      <th>0</th>\n",
       "      <td>0</td>\n",
       "      <td>latinoamerica</td>\n",
       "      <td>r</td>\n",
       "      <td>latinoamerica</td>\n",
       "      <td>r</td>\n",
       "      <td>desc</td>\n",
       "      <td>NaN</td>\n",
       "    </tr>\n",
       "    <tr>\n",
       "      <th>1</th>\n",
       "      <td>1</td>\n",
       "      <td>latinoamerica</td>\n",
       "      <td>r</td>\n",
       "      <td>argentina</td>\n",
       "      <td>r</td>\n",
       "      <td>desc</td>\n",
       "      <td>merica&lt;/li&gt;\\n&lt;li&gt;Images macros&lt;/li&gt;\\n&lt;li&gt;Posts...</td>\n",
       "    </tr>\n",
       "    <tr>\n",
       "      <th>2</th>\n",
       "      <td>2</td>\n",
       "      <td>latinoamerica</td>\n",
       "      <td>r</td>\n",
       "      <td>bolivia</td>\n",
       "      <td>r</td>\n",
       "      <td>desc</td>\n",
       "      <td>quot;Yo cuando...&amp;quot;&lt;/li&gt;\\n&lt;/ul&gt;\\n\\n&lt;hr/&gt;\\n...</td>\n",
       "    </tr>\n",
       "    <tr>\n",
       "      <th>3</th>\n",
       "      <td>3</td>\n",
       "      <td>latinoamerica</td>\n",
       "      <td>r</td>\n",
       "      <td>brasil</td>\n",
       "      <td>r</td>\n",
       "      <td>desc</td>\n",
       "      <td>latinoamericanos&lt;/strong&gt;&lt;/p&gt;\\n\\n&lt;ul&gt;\\n&lt;li&gt;&lt;a ...</td>\n",
       "    </tr>\n",
       "    <tr>\n",
       "      <th>4</th>\n",
       "      <td>4</td>\n",
       "      <td>latinoamerica</td>\n",
       "      <td>r</td>\n",
       "      <td>chile</td>\n",
       "      <td>r</td>\n",
       "      <td>desc</td>\n",
       "      <td>dit.com/r/argentina\"&gt;r/argentina&lt;/a&gt;&lt;/li&gt;\\n&lt;li...</td>\n",
       "    </tr>\n",
       "  </tbody>\n",
       "</table>\n",
       "</div>"
      ],
      "text/plain": [
       "   Unnamed: 0         source source_type         target target_type edge_type  \\\n",
       "0           0  latinoamerica           r  latinoamerica           r      desc   \n",
       "1           1  latinoamerica           r      argentina           r      desc   \n",
       "2           2  latinoamerica           r        bolivia           r      desc   \n",
       "3           3  latinoamerica           r         brasil           r      desc   \n",
       "4           4  latinoamerica           r          chile           r      desc   \n",
       "\n",
       "                                             context  \n",
       "0                                                NaN  \n",
       "1  merica</li>\\n<li>Images macros</li>\\n<li>Posts...  \n",
       "2  quot;Yo cuando...&quot;</li>\\n</ul>\\n\\n<hr/>\\n...  \n",
       "3  latinoamericanos</strong></p>\\n\\n<ul>\\n<li><a ...  \n",
       "4  dit.com/r/argentina\">r/argentina</a></li>\\n<li...  "
      ]
     },
     "execution_count": 36,
     "metadata": {},
     "output_type": "execute_result"
    }
   ],
   "source": [
    "edge_list.head()"
   ]
  },
  {
   "cell_type": "code",
   "execution_count": 9,
   "metadata": {},
   "outputs": [],
   "source": [
    "edge_with_multi = edge_list[(edge_list.target_type == 'm') | (edge_list.source_type == 'm')]"
   ]
  },
  {
   "cell_type": "markdown",
   "metadata": {},
   "source": [
    "# Validation"
   ]
  },
  {
   "cell_type": "code",
   "execution_count": 16,
   "metadata": {},
   "outputs": [],
   "source": [
    "source_multis = edge_list[edge_list.source_type == 'm']['source'].unique()"
   ]
  },
  {
   "cell_type": "code",
   "execution_count": 15,
   "metadata": {},
   "outputs": [],
   "source": [
    "target_multis = edge_list[edge_list.target_type == 'm']['target'].unique()"
   ]
  },
  {
   "cell_type": "code",
   "execution_count": 18,
   "metadata": {},
   "outputs": [
    {
     "data": {
      "text/plain": [
       "array(['argentinahub', 'spanish_speaking', 'multi_br', 'chilehub',\n",
       "       'musicamundo', 'musicalatina', 'aprendeotroidioma',\n",
       "       'latinoamerica', 'nationalphotosubs', 'imaginaryexpanded',\n",
       "       'breviario'], dtype=object)"
      ]
     },
     "execution_count": 18,
     "metadata": {},
     "output_type": "execute_result"
    }
   ],
   "source": [
    "target_multis"
   ]
  },
  {
   "cell_type": "code",
   "execution_count": 19,
   "metadata": {},
   "outputs": [
    {
     "data": {
      "text/plain": [
       "array(['argentinahub', 'multi_br', 'chilehub'], dtype=object)"
      ]
     },
     "execution_count": 19,
     "metadata": {},
     "output_type": "execute_result"
    }
   ],
   "source": [
    "source_multis"
   ]
  },
  {
   "cell_type": "markdown",
   "metadata": {},
   "source": [
    "# Subset to just the source multis"
   ]
  },
  {
   "cell_type": "code",
   "execution_count": 20,
   "metadata": {},
   "outputs": [],
   "source": [
    "relevant = edge_list[edge_list.source.isin(source_multis) | edge_list.target.isin(source_multis)]"
   ]
  },
  {
   "cell_type": "code",
   "execution_count": 23,
   "metadata": {},
   "outputs": [
    {
     "data": {
      "text/html": [
       "<div>\n",
       "<style scoped>\n",
       "    .dataframe tbody tr th:only-of-type {\n",
       "        vertical-align: middle;\n",
       "    }\n",
       "\n",
       "    .dataframe tbody tr th {\n",
       "        vertical-align: top;\n",
       "    }\n",
       "\n",
       "    .dataframe thead th {\n",
       "        text-align: right;\n",
       "    }\n",
       "</style>\n",
       "<table border=\"1\" class=\"dataframe\">\n",
       "  <thead>\n",
       "    <tr style=\"text-align: right;\">\n",
       "      <th></th>\n",
       "      <th>Unnamed: 0</th>\n",
       "      <th>source</th>\n",
       "      <th>source_type</th>\n",
       "      <th>target</th>\n",
       "      <th>target_type</th>\n",
       "      <th>edge_type</th>\n",
       "      <th>context</th>\n",
       "    </tr>\n",
       "  </thead>\n",
       "  <tbody>\n",
       "    <tr>\n",
       "      <th>31</th>\n",
       "      <td>31</td>\n",
       "      <td>argentina</td>\n",
       "      <td>r</td>\n",
       "      <td>argentinahub</td>\n",
       "      <td>m</td>\n",
       "      <td>desc</td>\n",
       "      <td>\"&gt;ExplicaciÃ³n actualizada&lt;/a&gt;. &lt;a href=\"http:...</td>\n",
       "    </tr>\n",
       "    <tr>\n",
       "      <th>55</th>\n",
       "      <td>55</td>\n",
       "      <td>argentina</td>\n",
       "      <td>r</td>\n",
       "      <td>argentinahub</td>\n",
       "      <td>m</td>\n",
       "      <td>wiki</td>\n",
       "      <td>m/about/). [ExplicaciÃ³n actualizada](http://w...</td>\n",
       "    </tr>\n",
       "    <tr>\n",
       "      <th>140</th>\n",
       "      <td>140</td>\n",
       "      <td>brasil</td>\n",
       "      <td>r</td>\n",
       "      <td>multi_br</td>\n",
       "      <td>m</td>\n",
       "      <td>desc</td>\n",
       "      <td>ubreddits na sidebar &lt;a href=\"https://www.redd...</td>\n",
       "    </tr>\n",
       "    <tr>\n",
       "      <th>166</th>\n",
       "      <td>166</td>\n",
       "      <td>brasil</td>\n",
       "      <td>r</td>\n",
       "      <td>multi_br</td>\n",
       "      <td>m</td>\n",
       "      <td>wiki</td>\n",
       "      <td>ovos subreddits na sidebar [clicando aqui](htt...</td>\n",
       "    </tr>\n",
       "    <tr>\n",
       "      <th>237</th>\n",
       "      <td>237</td>\n",
       "      <td>chile</td>\n",
       "      <td>r</td>\n",
       "      <td>chilehub</td>\n",
       "      <td>m</td>\n",
       "      <td>desc</td>\n",
       "      <td>&gt;: Registro pÃºblico de todas las acciones tom...</td>\n",
       "    </tr>\n",
       "  </tbody>\n",
       "</table>\n",
       "</div>"
      ],
      "text/plain": [
       "     Unnamed: 0     source source_type        target target_type edge_type  \\\n",
       "31           31  argentina           r  argentinahub           m      desc   \n",
       "55           55  argentina           r  argentinahub           m      wiki   \n",
       "140         140     brasil           r      multi_br           m      desc   \n",
       "166         166     brasil           r      multi_br           m      wiki   \n",
       "237         237      chile           r      chilehub           m      desc   \n",
       "\n",
       "                                               context  \n",
       "31   \">ExplicaciÃ³n actualizada</a>. <a href=\"http:...  \n",
       "55   m/about/). [ExplicaciÃ³n actualizada](http://w...  \n",
       "140  ubreddits na sidebar <a href=\"https://www.redd...  \n",
       "166  ovos subreddits na sidebar [clicando aqui](htt...  \n",
       "237  >: Registro pÃºblico de todas las acciones tom...  "
      ]
     },
     "execution_count": 23,
     "metadata": {},
     "output_type": "execute_result"
    }
   ],
   "source": [
    "relevant.head()"
   ]
  },
  {
   "cell_type": "markdown",
   "metadata": {},
   "source": [
    "# Create Multi Hash"
   ]
  },
  {
   "cell_type": "code",
   "execution_count": 30,
   "metadata": {},
   "outputs": [],
   "source": [
    "from collections import defaultdict\n",
    "\n",
    "multi_to_reddits = dict()\n",
    "for source in source_multis:\n",
    "    multi_to_reddits[source] = relevant[(relevant.source == source) & (relevant.target_type == 'r')]['target'].unique()"
   ]
  },
  {
   "cell_type": "code",
   "execution_count": 31,
   "metadata": {},
   "outputs": [
    {
     "data": {
      "text/plain": [
       "{'argentinahub': array(['bariloche', 'mendoza', 'fulbo', 'notargentina', 'linuxargentina',\n",
       "        'argentos', 'argentinados', 'republicaargentina',\n",
       "        'argentinacirclejerk', 'empleos_ar', 'fceyn', 'buenosairesbici',\n",
       "        'river_plate', 'chachacha', 'argentinazi', 'corrientes',\n",
       "        'argentinadrama', 'lgbt_de_argentina', 'argentinacirclejerk2',\n",
       "        'argenbitcoin', 'expatriados', 'argentina', 'buenosaires', 'arggw',\n",
       "        'rosario', '678', 'argenbeauty', 'mercadoreddit', 'arautos',\n",
       "        'dankgentina', 'roleros_argentina', 'argaming', 'notacj',\n",
       "        'argenpics', 'cordoba', 'musicaargentina', 'argentinacocina'],\n",
       "       dtype=object),\n",
       " 'multi_br': array(['brugal', 'youtubebrasil', 'parana', 'ajs_br',\n",
       "        'leagueoflegendsbrazil', 'corinthians', 'palmeiras',\n",
       "        'territoriolivre', 'jogatina', 'riodejaneiro', 'carreiras',\n",
       "        'monarquia', 'foradecasa', 'libertarianismo', 'batepapo',\n",
       "        'musicanova', 'gambiarra', 'brasilball', 'medoiosoio',\n",
       "        'cinemabrasil', 'saopaulo', 'linuxbrasil', 'dota2brasil',\n",
       "        'veganismobrasil', 'circojeca', 'desabafos', 'brasilia',\n",
       "        'craftmybox', 'filmeseseries', 'brasilonreddit', 'brsexplica',\n",
       "        'riograndedosul', 'escritoresbrasil', 'historiaemportugues',\n",
       "        'bestofbrasil', 'southamerica', 'psicanalise', 'motoca',\n",
       "        'investimentos', 'rpg_brasil', 'obitcoin', 'gamesecultura',\n",
       "        'reidopaint', 'semeando', 'musica', 'brasilandia', 'maconha',\n",
       "        'brasil420', 'merdasbrasildiz', 'concursospublicos', 'br4r',\n",
       "        'futebol', 'pokemongobrasil', 'tiodopave', 'brasildob',\n",
       "        'ajudabrasil', 'bolsonaro', 'jogos', 'nerdpowerbr', 'livros',\n",
       "        'naoesensacionalista', 'artebrasileira', 'portuguese',\n",
       "        'brasilpics', 'brasilisarb', 'g1comments', 'brasilbitcoin',\n",
       "        'gororoba', 'brasilrpg', 'brazilianmusic', 'a7arte', 'eu_nvr',\n",
       "        'filmes', 'ciencias', 'escalada', 'brdev', 'curitiba', 'recife',\n",
       "        'bovespa', 'brasil2'], dtype=object),\n",
       " 'chilehub': array(['rapanui', 'chilepics', 'mapudungun', 'chilecringe', 'santiago',\n",
       "        'chilegonewild', 'anormaldayinchile', 'cryptochile',\n",
       "        'topmusicchile', 'fuerzas_armadas_chile', 'chilearte', 'chilents',\n",
       "        'puc', 'laroja', 'votaenchile', 'yo_ctm', 'chilecirclejerk',\n",
       "        'memoriadechile', 'derechoenchile', 'revoluciondemocratica',\n",
       "        'laserena', 'dictaduraenchile', 'chile'], dtype=object)}"
      ]
     },
     "execution_count": 31,
     "metadata": {},
     "output_type": "execute_result"
    }
   ],
   "source": [
    "multi_to_reddits"
   ]
  },
  {
   "cell_type": "markdown",
   "metadata": {},
   "source": [
    "# Create New Edges"
   ]
  },
  {
   "cell_type": "code",
   "execution_count": 32,
   "metadata": {},
   "outputs": [],
   "source": [
    "edges_to_source_multis = relevant[relevant.target.isin(source_multis)]"
   ]
  },
  {
   "cell_type": "code",
   "execution_count": 43,
   "metadata": {},
   "outputs": [],
   "source": [
    "import numpy as np\n",
    "\n",
    "acc = []\n",
    "\n",
    "def create_new_edges(source, edge_type, context, multi, multi_hash):\n",
    "    targets = multi_hash[multi]\n",
    "    for t in targets:\n",
    "        acc.append([source, 'r', t, 'r', f'{edge_type}-multi', context, multi])"
   ]
  },
  {
   "cell_type": "code",
   "execution_count": 44,
   "metadata": {},
   "outputs": [
    {
     "data": {
      "text/plain": [
       "31      None\n",
       "55      None\n",
       "140     None\n",
       "166     None\n",
       "237     None\n",
       "266     None\n",
       "1305    None\n",
       "1445    None\n",
       "1500    None\n",
       "dtype: object"
      ]
     },
     "execution_count": 44,
     "metadata": {},
     "output_type": "execute_result"
    }
   ],
   "source": [
    "edges_to_source_multis.apply(lambda row: create_new_edges(row.source, row.edge_type, row.context, row.target, multi_to_reddits), axis=1)"
   ]
  },
  {
   "cell_type": "code",
   "execution_count": 46,
   "metadata": {},
   "outputs": [],
   "source": [
    "new_edges = pd.DataFrame(acc, columns=['source', 'source_type', 'target', 'target_type', 'edge_type', 'context', 'multi_name'])"
   ]
  },
  {
   "cell_type": "markdown",
   "metadata": {},
   "source": [
    "# Prep Edge List"
   ]
  },
  {
   "cell_type": "code",
   "execution_count": 60,
   "metadata": {},
   "outputs": [],
   "source": [
    "# edge_list.drop(columns='Unnamed: 0', inplace=True)\n",
    "valid_edges = edge_list[(edge_list.source_type == 'r') & (edge_list.target_type == 'r')]"
   ]
  },
  {
   "cell_type": "markdown",
   "metadata": {},
   "source": [
    "# Append New Edges"
   ]
  },
  {
   "cell_type": "code",
   "execution_count": 63,
   "metadata": {},
   "outputs": [],
   "source": [
    "full_edge_list = valid_edges.append(new_edges, ignore_index=True, sort=False)"
   ]
  },
  {
   "cell_type": "code",
   "execution_count": 64,
   "metadata": {},
   "outputs": [
    {
     "name": "stdout",
     "output_type": "stream",
     "text": [
      "(3233, 6)\n",
      "(434, 7)\n",
      "(3667, 7)\n"
     ]
    }
   ],
   "source": [
    "print(valid_edges.shape)\n",
    "print(new_edges.shape)\n",
    "print(full_edge_list.shape)"
   ]
  },
  {
   "cell_type": "markdown",
   "metadata": {},
   "source": [
    "# Saved Final Edge List"
   ]
  },
  {
   "cell_type": "code",
   "execution_count": 65,
   "metadata": {},
   "outputs": [],
   "source": [
    "full_edge_list.to_csv('../data/finalEdgeList.csv')"
   ]
  },
  {
   "cell_type": "code",
   "execution_count": null,
   "metadata": {},
   "outputs": [],
   "source": []
  }
 ],
 "metadata": {
  "kernelspec": {
   "display_name": "Python 3",
   "language": "python",
   "name": "python3"
  },
  "language_info": {
   "codemirror_mode": {
    "name": "ipython",
    "version": 3
   },
   "file_extension": ".py",
   "mimetype": "text/x-python",
   "name": "python",
   "nbconvert_exporter": "python",
   "pygments_lexer": "ipython3",
   "version": "3.7.3"
  }
 },
 "nbformat": 4,
 "nbformat_minor": 2
}
