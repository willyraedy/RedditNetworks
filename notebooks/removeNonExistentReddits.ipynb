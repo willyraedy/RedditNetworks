{
 "cells": [
  {
   "cell_type": "markdown",
   "metadata": {},
   "source": [
    "# Load Lists"
   ]
  },
  {
   "cell_type": "code",
   "execution_count": 1,
   "metadata": {
    "scrolled": true
   },
   "outputs": [],
   "source": [
    "import pandas as pd\n",
    "\n",
    "df = pd.read_csv('../data/mergedAttributeList.csv')\n",
    "edge = pd.read_csv('../data/mergedEdgeList.csv')"
   ]
  },
  {
   "cell_type": "markdown",
   "metadata": {},
   "source": [
    "# Check If Subreddit Exists"
   ]
  },
  {
   "cell_type": "code",
   "execution_count": null,
   "metadata": {
    "scrolled": false
   },
   "outputs": [],
   "source": [
    "import sys\n",
    "import prawcore\n",
    "import importlib\n",
    "sys.path.append('../src/')\n",
    "\n",
    "import reddit\n",
    "reddit = importlib.reload(reddit)\n",
    "\n",
    "import network\n",
    "network = importlib.reload(network)\n",
    "\n",
    "def subreddit_exists(reddit_name):\n",
    "    print('starting')\n",
    "    try:\n",
    "        subreddit = reddit.reddit_api_wrapper.subreddit(reddit_name)\n",
    "        print(subreddit.name)\n",
    "        return True\n",
    "    except prawcore.exceptions.RequestException:\n",
    "        print('recursing')\n",
    "        return subreddit_exists(reddit_name)\n",
    "    except KeyboardInterrupt:\n",
    "        print('foobar')\n",
    "        raise\n",
    "    except:\n",
    "        e = sys.exc_info()[0]\n",
    "        print(e)\n",
    "        return e\n",
    "\n",
    "df['exists'] = df.reddit_name.map(subreddit_exists)"
   ]
  },
  {
   "cell_type": "markdown",
   "metadata": {},
   "source": [
    "# Remove Non-Existent Subreddits"
   ]
  },
  {
   "cell_type": "code",
   "execution_count": 14,
   "metadata": {
    "scrolled": true
   },
   "outputs": [],
   "source": [
    "# remove every marked subreddit on attribute list\n",
    "df[df['exists'] == True][['reddit_name', 'desc', 'created_date', 'subs']].to_csv('../data/verifiedAttributeList.csv')\n",
    "# remove every record in edge list with that subreddit as source or reddit\n",
    "verified_reddits = df[df['exists'] == True].reddit_name.unique()\n",
    "edge[edge.source.isin(verified_reddits) & edge.target.isin(verified_reddits)].to_csv('../data/verifiedEdgeList.csv')"
   ]
  }
 ],
 "metadata": {
  "kernelspec": {
   "display_name": "Python 3",
   "language": "python",
   "name": "python3"
  },
  "language_info": {
   "codemirror_mode": {
    "name": "ipython",
    "version": 3
   },
   "file_extension": ".py",
   "mimetype": "text/x-python",
   "name": "python",
   "nbconvert_exporter": "python",
   "pygments_lexer": "ipython3",
   "version": "3.7.3"
  }
 },
 "nbformat": 4,
 "nbformat_minor": 2
}
