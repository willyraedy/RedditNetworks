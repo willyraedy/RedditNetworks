{
 "cells": [
  {
   "cell_type": "code",
   "execution_count": 2,
   "metadata": {},
   "outputs": [
    {
     "name": "stdout",
     "output_type": "stream",
     "text": [
      "Requirement already up-to-date: google-cloud-storage in /Users/willyraedy/anaconda3/lib/python3.7/site-packages (1.21.0)\n",
      "Requirement already satisfied, skipping upgrade: google-auth>=1.2.0 in /Users/willyraedy/anaconda3/lib/python3.7/site-packages (from google-cloud-storage) (1.6.3)\n",
      "Requirement already satisfied, skipping upgrade: google-resumable-media!=0.4.0,<0.5dev,>=0.3.1 in /Users/willyraedy/anaconda3/lib/python3.7/site-packages (from google-cloud-storage) (0.4.1)\n",
      "Requirement already satisfied, skipping upgrade: google-cloud-core<2.0dev,>=1.0.3 in /Users/willyraedy/anaconda3/lib/python3.7/site-packages (from google-cloud-storage) (1.0.3)\n",
      "Requirement already satisfied, skipping upgrade: rsa>=3.1.4 in /Users/willyraedy/anaconda3/lib/python3.7/site-packages (from google-auth>=1.2.0->google-cloud-storage) (4.0)\n",
      "Requirement already satisfied, skipping upgrade: six>=1.9.0 in /Users/willyraedy/anaconda3/lib/python3.7/site-packages (from google-auth>=1.2.0->google-cloud-storage) (1.12.0)\n",
      "Requirement already satisfied, skipping upgrade: cachetools>=2.0.0 in /Users/willyraedy/anaconda3/lib/python3.7/site-packages (from google-auth>=1.2.0->google-cloud-storage) (3.1.1)\n",
      "Requirement already satisfied, skipping upgrade: pyasn1-modules>=0.2.1 in /Users/willyraedy/anaconda3/lib/python3.7/site-packages (from google-auth>=1.2.0->google-cloud-storage) (0.2.7)\n",
      "Requirement already satisfied, skipping upgrade: google-api-core<2.0.0dev,>=1.14.0 in /Users/willyraedy/anaconda3/lib/python3.7/site-packages (from google-cloud-core<2.0dev,>=1.0.3->google-cloud-storage) (1.14.3)\n",
      "Requirement already satisfied, skipping upgrade: pyasn1>=0.1.3 in /Users/willyraedy/anaconda3/lib/python3.7/site-packages (from rsa>=3.1.4->google-auth>=1.2.0->google-cloud-storage) (0.4.7)\n",
      "Requirement already satisfied, skipping upgrade: googleapis-common-protos<2.0dev,>=1.6.0 in /Users/willyraedy/anaconda3/lib/python3.7/site-packages (from google-api-core<2.0.0dev,>=1.14.0->google-cloud-core<2.0dev,>=1.0.3->google-cloud-storage) (1.6.0)\n",
      "Requirement already satisfied, skipping upgrade: setuptools>=34.0.0 in /Users/willyraedy/anaconda3/lib/python3.7/site-packages (from google-api-core<2.0.0dev,>=1.14.0->google-cloud-core<2.0dev,>=1.0.3->google-cloud-storage) (40.8.0)\n",
      "Requirement already satisfied, skipping upgrade: protobuf>=3.4.0 in /Users/willyraedy/anaconda3/lib/python3.7/site-packages (from google-api-core<2.0.0dev,>=1.14.0->google-cloud-core<2.0dev,>=1.0.3->google-cloud-storage) (3.10.0)\n",
      "Requirement already satisfied, skipping upgrade: pytz in /Users/willyraedy/anaconda3/lib/python3.7/site-packages (from google-api-core<2.0.0dev,>=1.14.0->google-cloud-core<2.0dev,>=1.0.3->google-cloud-storage) (2018.9)\n",
      "Requirement already satisfied, skipping upgrade: requests<3.0.0dev,>=2.18.0 in /Users/willyraedy/anaconda3/lib/python3.7/site-packages (from google-api-core<2.0.0dev,>=1.14.0->google-cloud-core<2.0dev,>=1.0.3->google-cloud-storage) (2.21.0)\n",
      "Requirement already satisfied, skipping upgrade: chardet<3.1.0,>=3.0.2 in /Users/willyraedy/anaconda3/lib/python3.7/site-packages (from requests<3.0.0dev,>=2.18.0->google-api-core<2.0.0dev,>=1.14.0->google-cloud-core<2.0dev,>=1.0.3->google-cloud-storage) (3.0.4)\n",
      "Requirement already satisfied, skipping upgrade: urllib3<1.25,>=1.21.1 in /Users/willyraedy/anaconda3/lib/python3.7/site-packages (from requests<3.0.0dev,>=2.18.0->google-api-core<2.0.0dev,>=1.14.0->google-cloud-core<2.0dev,>=1.0.3->google-cloud-storage) (1.24.1)\n",
      "Requirement already satisfied, skipping upgrade: certifi>=2017.4.17 in /Users/willyraedy/anaconda3/lib/python3.7/site-packages (from requests<3.0.0dev,>=2.18.0->google-api-core<2.0.0dev,>=1.14.0->google-cloud-core<2.0dev,>=1.0.3->google-cloud-storage) (2019.3.9)\n",
      "Requirement already satisfied, skipping upgrade: idna<2.9,>=2.5 in /Users/willyraedy/anaconda3/lib/python3.7/site-packages (from requests<3.0.0dev,>=2.18.0->google-api-core<2.0.0dev,>=1.14.0->google-cloud-core<2.0dev,>=1.0.3->google-cloud-storage) (2.8)\n"
     ]
    }
   ],
   "source": [
    "# Install a pip package in the current Jupyter kernel\n",
    "import sys\n",
    "!{sys.executable} -m pip install --upgrade google-cloud-storage"
   ]
  },
  {
   "cell_type": "code",
   "execution_count": 5,
   "metadata": {},
   "outputs": [
    {
     "name": "stdout",
     "output_type": "stream",
     "text": [
      "env: GOOGLE_APPLICATION_CREDENTIALS=/Users/willyraedy/Sync/SideProjects/RedditResearch/credentials-ebeb319739c4.json\n"
     ]
    }
   ],
   "source": [
    "%env GOOGLE_APPLICATION_CREDENTIALS=/Users/willyraedy/Sync/SideProjects/RedditResearch/credentials-ebeb319739c4.json"
   ]
  },
  {
   "cell_type": "code",
   "execution_count": 6,
   "metadata": {},
   "outputs": [],
   "source": [
    "# Imports the Google Cloud client library\n",
    "from google.cloud import storage\n",
    "\n",
    "# Instantiates a client\n",
    "storage_client = storage.Client()"
   ]
  },
  {
   "cell_type": "code",
   "execution_count": 24,
   "metadata": {},
   "outputs": [],
   "source": [
    "import pandas as pd\n",
    "import os"
   ]
  },
  {
   "cell_type": "code",
   "execution_count": 30,
   "metadata": {},
   "outputs": [],
   "source": [
    "def fetch_blob_as_data_frame(bucket_name, source_blob_name):\n",
    "    bucket = storage_client.get_bucket(bucket_name)\n",
    "    blob = bucket.blob(source_blob_name)\n",
    "    print('got blob')\n",
    "    filename = 'temporary.csv'\n",
    "    blob.download_to_filename(filename)\n",
    "    print('dowloaded as file')\n",
    "    df = pd.read_csv(filename)\n",
    "    print('made data frame')\n",
    "    os.remove(filename)\n",
    "    \n",
    "    return df"
   ]
  },
  {
   "cell_type": "code",
   "execution_count": 31,
   "metadata": {},
   "outputs": [
    {
     "name": "stdout",
     "output_type": "stream",
     "text": [
      "got blob\n",
      "dowloaded as file\n",
      "made data frame\n"
     ]
    }
   ],
   "source": [
    "reddits = fetch_blob_as_data_frame('meli_thesis', '900000-reddits.csv')"
   ]
  },
  {
   "cell_type": "code",
   "execution_count": 34,
   "metadata": {},
   "outputs": [
    {
     "data": {
      "text/html": [
       "<div>\n",
       "<style scoped>\n",
       "    .dataframe tbody tr th:only-of-type {\n",
       "        vertical-align: middle;\n",
       "    }\n",
       "\n",
       "    .dataframe tbody tr th {\n",
       "        vertical-align: top;\n",
       "    }\n",
       "\n",
       "    .dataframe thead th {\n",
       "        text-align: right;\n",
       "    }\n",
       "</style>\n",
       "<table border=\"1\" class=\"dataframe\">\n",
       "  <thead>\n",
       "    <tr style=\"text-align: right;\">\n",
       "      <th></th>\n",
       "      <th>Unnamed: 0</th>\n",
       "      <th>description_html</th>\n",
       "      <th>display_name</th>\n",
       "      <th>public_description</th>\n",
       "      <th>subscribers</th>\n",
       "    </tr>\n",
       "  </thead>\n",
       "  <tbody>\n",
       "    <tr>\n",
       "      <th>0</th>\n",
       "      <td>0</td>\n",
       "      <td>&amp;lt;!-- SC_OFF --&amp;gt;&amp;lt;div class=\"md\"&amp;gt;&amp;lt...</td>\n",
       "      <td>AskReddit</td>\n",
       "      <td>r/AskReddit is the place to ask and answer tho...</td>\n",
       "      <td>24948546</td>\n",
       "    </tr>\n",
       "    <tr>\n",
       "      <th>1</th>\n",
       "      <td>1</td>\n",
       "      <td>&amp;lt;!-- SC_OFF --&amp;gt;&amp;lt;div class=\"md\"&amp;gt;&amp;lt...</td>\n",
       "      <td>news</td>\n",
       "      <td>/r/news is: real news articles, primarily but ...</td>\n",
       "      <td>19179539</td>\n",
       "    </tr>\n",
       "    <tr>\n",
       "      <th>2</th>\n",
       "      <td>2</td>\n",
       "      <td>&amp;lt;!-- SC_OFF --&amp;gt;&amp;lt;div class=\"md\"&amp;gt;&amp;lt...</td>\n",
       "      <td>funny</td>\n",
       "      <td>Welcome to r/Funny: reddit's largest humour de...</td>\n",
       "      <td>26893191</td>\n",
       "    </tr>\n",
       "    <tr>\n",
       "      <th>3</th>\n",
       "      <td>3</td>\n",
       "      <td>&amp;lt;!-- SC_OFF --&amp;gt;&amp;lt;div class=\"md\"&amp;gt;&amp;lt...</td>\n",
       "      <td>pics</td>\n",
       "      <td>A place for pictures and photographs.</td>\n",
       "      <td>23047650</td>\n",
       "    </tr>\n",
       "    <tr>\n",
       "      <th>4</th>\n",
       "      <td>4</td>\n",
       "      <td>&amp;lt;!-- SC_OFF --&amp;gt;&amp;lt;div class=\"md\"&amp;gt;&amp;lt...</td>\n",
       "      <td>worldnews</td>\n",
       "      <td>A place for major news from around the world, ...</td>\n",
       "      <td>22377468</td>\n",
       "    </tr>\n",
       "  </tbody>\n",
       "</table>\n",
       "</div>"
      ],
      "text/plain": [
       "   Unnamed: 0                                   description_html display_name  \\\n",
       "0           0  &lt;!-- SC_OFF --&gt;&lt;div class=\"md\"&gt;&lt...    AskReddit   \n",
       "1           1  &lt;!-- SC_OFF --&gt;&lt;div class=\"md\"&gt;&lt...         news   \n",
       "2           2  &lt;!-- SC_OFF --&gt;&lt;div class=\"md\"&gt;&lt...        funny   \n",
       "3           3  &lt;!-- SC_OFF --&gt;&lt;div class=\"md\"&gt;&lt...         pics   \n",
       "4           4  &lt;!-- SC_OFF --&gt;&lt;div class=\"md\"&gt;&lt...    worldnews   \n",
       "\n",
       "                                  public_description  subscribers  \n",
       "0  r/AskReddit is the place to ask and answer tho...     24948546  \n",
       "1  /r/news is: real news articles, primarily but ...     19179539  \n",
       "2  Welcome to r/Funny: reddit's largest humour de...     26893191  \n",
       "3              A place for pictures and photographs.     23047650  \n",
       "4  A place for major news from around the world, ...     22377468  "
      ]
     },
     "execution_count": 34,
     "metadata": {},
     "output_type": "execute_result"
    }
   ],
   "source": [
    "reddits.head()"
   ]
  },
  {
   "cell_type": "code",
   "execution_count": 35,
   "metadata": {},
   "outputs": [
    {
     "name": "stdout",
     "output_type": "stream",
     "text": [
      "got blob\n",
      "dowloaded as file\n",
      "made data frame\n"
     ]
    },
    {
     "data": {
      "text/html": [
       "<div>\n",
       "<style scoped>\n",
       "    .dataframe tbody tr th:only-of-type {\n",
       "        vertical-align: middle;\n",
       "    }\n",
       "\n",
       "    .dataframe tbody tr th {\n",
       "        vertical-align: top;\n",
       "    }\n",
       "\n",
       "    .dataframe thead th {\n",
       "        text-align: right;\n",
       "    }\n",
       "</style>\n",
       "<table border=\"1\" class=\"dataframe\">\n",
       "  <thead>\n",
       "    <tr style=\"text-align: right;\">\n",
       "      <th></th>\n",
       "      <th>Unnamed: 0</th>\n",
       "      <th>description_html</th>\n",
       "      <th>display_name</th>\n",
       "      <th>public_description</th>\n",
       "      <th>subscribers</th>\n",
       "    </tr>\n",
       "  </thead>\n",
       "  <tbody>\n",
       "    <tr>\n",
       "      <th>0</th>\n",
       "      <td>0</td>\n",
       "      <td>&amp;lt;!-- SC_OFF --&amp;gt;&amp;lt;div class=\"md\"&amp;gt;&amp;lt...</td>\n",
       "      <td>AskReddit</td>\n",
       "      <td>r/AskReddit is the place to ask and answer tho...</td>\n",
       "      <td>24942992</td>\n",
       "    </tr>\n",
       "    <tr>\n",
       "      <th>1</th>\n",
       "      <td>1</td>\n",
       "      <td>&amp;lt;!-- SC_OFF --&amp;gt;&amp;lt;div class=\"md\"&amp;gt;&amp;lt...</td>\n",
       "      <td>news</td>\n",
       "      <td>/r/news is: real news articles, primarily but ...</td>\n",
       "      <td>19177679</td>\n",
       "    </tr>\n",
       "    <tr>\n",
       "      <th>2</th>\n",
       "      <td>2</td>\n",
       "      <td>&amp;lt;!-- SC_OFF --&amp;gt;&amp;lt;div class=\"md\"&amp;gt;&amp;lt...</td>\n",
       "      <td>politics</td>\n",
       "      <td>/r/Politics is for news and discussion about U...</td>\n",
       "      <td>5498357</td>\n",
       "    </tr>\n",
       "    <tr>\n",
       "      <th>3</th>\n",
       "      <td>3</td>\n",
       "      <td>&amp;lt;!-- SC_OFF --&amp;gt;&amp;lt;div class=\"md\"&amp;gt;&amp;lt...</td>\n",
       "      <td>PublicFreakout</td>\n",
       "      <td>A subreddit dedicated to people freaking out, ...</td>\n",
       "      <td>1433925</td>\n",
       "    </tr>\n",
       "    <tr>\n",
       "      <th>4</th>\n",
       "      <td>4</td>\n",
       "      <td>&amp;lt;!-- SC_OFF --&amp;gt;&amp;lt;div class=\"md\"&amp;gt;&amp;lt...</td>\n",
       "      <td>AmItheAsshole</td>\n",
       "      <td>A catharsis for the frustrated moral philosoph...</td>\n",
       "      <td>1434447</td>\n",
       "    </tr>\n",
       "  </tbody>\n",
       "</table>\n",
       "</div>"
      ],
      "text/plain": [
       "   Unnamed: 0                                   description_html  \\\n",
       "0           0  &lt;!-- SC_OFF --&gt;&lt;div class=\"md\"&gt;&lt...   \n",
       "1           1  &lt;!-- SC_OFF --&gt;&lt;div class=\"md\"&gt;&lt...   \n",
       "2           2  &lt;!-- SC_OFF --&gt;&lt;div class=\"md\"&gt;&lt...   \n",
       "3           3  &lt;!-- SC_OFF --&gt;&lt;div class=\"md\"&gt;&lt...   \n",
       "4           4  &lt;!-- SC_OFF --&gt;&lt;div class=\"md\"&gt;&lt...   \n",
       "\n",
       "     display_name                                 public_description  \\\n",
       "0       AskReddit  r/AskReddit is the place to ask and answer tho...   \n",
       "1            news  /r/news is: real news articles, primarily but ...   \n",
       "2        politics  /r/Politics is for news and discussion about U...   \n",
       "3  PublicFreakout  A subreddit dedicated to people freaking out, ...   \n",
       "4   AmItheAsshole  A catharsis for the frustrated moral philosoph...   \n",
       "\n",
       "   subscribers  \n",
       "0     24942992  \n",
       "1     19177679  \n",
       "2      5498357  \n",
       "3      1433925  \n",
       "4      1434447  "
      ]
     },
     "execution_count": 35,
     "metadata": {},
     "output_type": "execute_result"
    }
   ],
   "source": [
    "reddits1 = fetch_blob_as_data_frame('meli_thesis', '100000-reddits.csv')\n",
    "reddits1.head()"
   ]
  },
  {
   "cell_type": "code",
   "execution_count": 36,
   "metadata": {},
   "outputs": [
    {
     "name": "stdout",
     "output_type": "stream",
     "text": [
      "got blob\n",
      "dowloaded as file\n",
      "made data frame\n"
     ]
    }
   ],
   "source": [
    "reddits26 = fetch_blob_as_data_frame('meli_thesis', '2600000-reddits.csv')"
   ]
  },
  {
   "cell_type": "code",
   "execution_count": 37,
   "metadata": {},
   "outputs": [
    {
     "data": {
      "text/html": [
       "<div>\n",
       "<style scoped>\n",
       "    .dataframe tbody tr th:only-of-type {\n",
       "        vertical-align: middle;\n",
       "    }\n",
       "\n",
       "    .dataframe tbody tr th {\n",
       "        vertical-align: top;\n",
       "    }\n",
       "\n",
       "    .dataframe thead th {\n",
       "        text-align: right;\n",
       "    }\n",
       "</style>\n",
       "<table border=\"1\" class=\"dataframe\">\n",
       "  <thead>\n",
       "    <tr style=\"text-align: right;\">\n",
       "      <th></th>\n",
       "      <th>Unnamed: 0</th>\n",
       "      <th>description_html</th>\n",
       "      <th>display_name</th>\n",
       "      <th>public_description</th>\n",
       "      <th>subscribers</th>\n",
       "    </tr>\n",
       "  </thead>\n",
       "  <tbody>\n",
       "    <tr>\n",
       "      <th>0</th>\n",
       "      <td>0</td>\n",
       "      <td>&amp;lt;!-- SC_OFF --&amp;gt;&amp;lt;div class=\"md\"&amp;gt;&amp;lt...</td>\n",
       "      <td>AskReddit</td>\n",
       "      <td>r/AskReddit is the place to ask and answer tho...</td>\n",
       "      <td>24952533</td>\n",
       "    </tr>\n",
       "    <tr>\n",
       "      <th>1</th>\n",
       "      <td>1</td>\n",
       "      <td>&amp;lt;!-- SC_OFF --&amp;gt;&amp;lt;div class=\"md\"&amp;gt;&amp;lt...</td>\n",
       "      <td>news</td>\n",
       "      <td>/r/news is: real news articles, primarily but ...</td>\n",
       "      <td>19181640</td>\n",
       "    </tr>\n",
       "    <tr>\n",
       "      <th>2</th>\n",
       "      <td>2</td>\n",
       "      <td>&amp;lt;!-- SC_OFF --&amp;gt;&amp;lt;div class=\"md\"&amp;gt;&amp;lt...</td>\n",
       "      <td>funny</td>\n",
       "      <td>Welcome to r/Funny: reddit's largest humour de...</td>\n",
       "      <td>26897952</td>\n",
       "    </tr>\n",
       "    <tr>\n",
       "      <th>3</th>\n",
       "      <td>3</td>\n",
       "      <td>&amp;lt;!-- SC_OFF --&amp;gt;&amp;lt;div class=\"md\"&amp;gt;&amp;lt...</td>\n",
       "      <td>pics</td>\n",
       "      <td>A place for pictures and photographs.</td>\n",
       "      <td>23050017</td>\n",
       "    </tr>\n",
       "    <tr>\n",
       "      <th>4</th>\n",
       "      <td>4</td>\n",
       "      <td>&amp;lt;!-- SC_OFF --&amp;gt;&amp;lt;div class=\"md\"&amp;gt;&amp;lt...</td>\n",
       "      <td>worldnews</td>\n",
       "      <td>A place for major news from around the world, ...</td>\n",
       "      <td>22379681</td>\n",
       "    </tr>\n",
       "  </tbody>\n",
       "</table>\n",
       "</div>"
      ],
      "text/plain": [
       "   Unnamed: 0                                   description_html display_name  \\\n",
       "0           0  &lt;!-- SC_OFF --&gt;&lt;div class=\"md\"&gt;&lt...    AskReddit   \n",
       "1           1  &lt;!-- SC_OFF --&gt;&lt;div class=\"md\"&gt;&lt...         news   \n",
       "2           2  &lt;!-- SC_OFF --&gt;&lt;div class=\"md\"&gt;&lt...        funny   \n",
       "3           3  &lt;!-- SC_OFF --&gt;&lt;div class=\"md\"&gt;&lt...         pics   \n",
       "4           4  &lt;!-- SC_OFF --&gt;&lt;div class=\"md\"&gt;&lt...    worldnews   \n",
       "\n",
       "                                  public_description  subscribers  \n",
       "0  r/AskReddit is the place to ask and answer tho...     24952533  \n",
       "1  /r/news is: real news articles, primarily but ...     19181640  \n",
       "2  Welcome to r/Funny: reddit's largest humour de...     26897952  \n",
       "3              A place for pictures and photographs.     23050017  \n",
       "4  A place for major news from around the world, ...     22379681  "
      ]
     },
     "execution_count": 37,
     "metadata": {},
     "output_type": "execute_result"
    }
   ],
   "source": [
    "reddits26.head()"
   ]
  },
  {
   "cell_type": "raw",
   "metadata": {},
   "source": [
    "# only_latino_network = reddits1['latinoamerica' in reddits1['description_html']]\n",
    "only_latino_network = reddits1[reddits1['description_html'].str.contains('latinoamerica')]"
   ]
  },
  {
   "cell_type": "raw",
   "metadata": {},
   "source": [
    "reddits1."
   ]
  }
 ],
 "metadata": {
  "kernelspec": {
   "display_name": "Python 3",
   "language": "python",
   "name": "python3"
  },
  "language_info": {
   "codemirror_mode": {
    "name": "ipython",
    "version": 3
   },
   "file_extension": ".py",
   "mimetype": "text/x-python",
   "name": "python",
   "nbconvert_exporter": "python",
   "pygments_lexer": "ipython3",
   "version": "3.7.3"
  }
 },
 "nbformat": 4,
 "nbformat_minor": 2
}
