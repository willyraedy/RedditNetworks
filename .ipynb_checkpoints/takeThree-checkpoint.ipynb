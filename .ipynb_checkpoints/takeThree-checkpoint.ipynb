{
 "cells": [
  {
   "cell_type": "code",
   "execution_count": 1,
   "metadata": {},
   "outputs": [
    {
     "name": "stdout",
     "output_type": "stream",
     "text": [
      "Requirement already satisfied: dask in /Users/willyraedy/anaconda3/lib/python3.7/site-packages (1.1.4)\n",
      "Requirement already up-to-date: google-cloud-storage in /Users/willyraedy/anaconda3/lib/python3.7/site-packages (1.22.0)\n",
      "Requirement already satisfied, skipping upgrade: google-cloud-core<2.0dev,>=1.0.3 in /Users/willyraedy/anaconda3/lib/python3.7/site-packages (from google-cloud-storage) (1.0.3)\n",
      "Requirement already satisfied, skipping upgrade: google-auth>=1.2.0 in /Users/willyraedy/anaconda3/lib/python3.7/site-packages (from google-cloud-storage) (1.6.3)\n",
      "Requirement already satisfied, skipping upgrade: google-resumable-media!=0.4.0,<0.5dev,>=0.3.1 in /Users/willyraedy/anaconda3/lib/python3.7/site-packages (from google-cloud-storage) (0.4.1)\n",
      "Requirement already satisfied, skipping upgrade: google-api-core<2.0.0dev,>=1.14.0 in /Users/willyraedy/anaconda3/lib/python3.7/site-packages (from google-cloud-core<2.0dev,>=1.0.3->google-cloud-storage) (1.14.3)\n",
      "Requirement already satisfied, skipping upgrade: rsa>=3.1.4 in /Users/willyraedy/anaconda3/lib/python3.7/site-packages (from google-auth>=1.2.0->google-cloud-storage) (4.0)\n",
      "Requirement already satisfied, skipping upgrade: cachetools>=2.0.0 in /Users/willyraedy/anaconda3/lib/python3.7/site-packages (from google-auth>=1.2.0->google-cloud-storage) (3.1.1)\n",
      "Requirement already satisfied, skipping upgrade: pyasn1-modules>=0.2.1 in /Users/willyraedy/anaconda3/lib/python3.7/site-packages (from google-auth>=1.2.0->google-cloud-storage) (0.2.7)\n",
      "Requirement already satisfied, skipping upgrade: six>=1.9.0 in /Users/willyraedy/anaconda3/lib/python3.7/site-packages (from google-auth>=1.2.0->google-cloud-storage) (1.12.0)\n",
      "Requirement already satisfied, skipping upgrade: pytz in /Users/willyraedy/anaconda3/lib/python3.7/site-packages (from google-api-core<2.0.0dev,>=1.14.0->google-cloud-core<2.0dev,>=1.0.3->google-cloud-storage) (2018.9)\n",
      "Requirement already satisfied, skipping upgrade: protobuf>=3.4.0 in /Users/willyraedy/anaconda3/lib/python3.7/site-packages (from google-api-core<2.0.0dev,>=1.14.0->google-cloud-core<2.0dev,>=1.0.3->google-cloud-storage) (3.10.0)\n",
      "Requirement already satisfied, skipping upgrade: googleapis-common-protos<2.0dev,>=1.6.0 in /Users/willyraedy/anaconda3/lib/python3.7/site-packages (from google-api-core<2.0.0dev,>=1.14.0->google-cloud-core<2.0dev,>=1.0.3->google-cloud-storage) (1.6.0)\n",
      "Requirement already satisfied, skipping upgrade: requests<3.0.0dev,>=2.18.0 in /Users/willyraedy/anaconda3/lib/python3.7/site-packages (from google-api-core<2.0.0dev,>=1.14.0->google-cloud-core<2.0dev,>=1.0.3->google-cloud-storage) (2.21.0)\n",
      "Requirement already satisfied, skipping upgrade: setuptools>=34.0.0 in /Users/willyraedy/anaconda3/lib/python3.7/site-packages (from google-api-core<2.0.0dev,>=1.14.0->google-cloud-core<2.0dev,>=1.0.3->google-cloud-storage) (40.8.0)\n",
      "Requirement already satisfied, skipping upgrade: pyasn1>=0.1.3 in /Users/willyraedy/anaconda3/lib/python3.7/site-packages (from rsa>=3.1.4->google-auth>=1.2.0->google-cloud-storage) (0.4.7)\n",
      "Requirement already satisfied, skipping upgrade: chardet<3.1.0,>=3.0.2 in /Users/willyraedy/anaconda3/lib/python3.7/site-packages (from requests<3.0.0dev,>=2.18.0->google-api-core<2.0.0dev,>=1.14.0->google-cloud-core<2.0dev,>=1.0.3->google-cloud-storage) (3.0.4)\n",
      "Requirement already satisfied, skipping upgrade: idna<2.9,>=2.5 in /Users/willyraedy/anaconda3/lib/python3.7/site-packages (from requests<3.0.0dev,>=2.18.0->google-api-core<2.0.0dev,>=1.14.0->google-cloud-core<2.0dev,>=1.0.3->google-cloud-storage) (2.8)\n",
      "Requirement already satisfied, skipping upgrade: urllib3<1.25,>=1.21.1 in /Users/willyraedy/anaconda3/lib/python3.7/site-packages (from requests<3.0.0dev,>=2.18.0->google-api-core<2.0.0dev,>=1.14.0->google-cloud-core<2.0dev,>=1.0.3->google-cloud-storage) (1.24.1)\n",
      "Requirement already satisfied, skipping upgrade: certifi>=2017.4.17 in /Users/willyraedy/anaconda3/lib/python3.7/site-packages (from requests<3.0.0dev,>=2.18.0->google-api-core<2.0.0dev,>=1.14.0->google-cloud-core<2.0dev,>=1.0.3->google-cloud-storage) (2019.3.9)\n",
      "Requirement already satisfied: praw in /Users/willyraedy/anaconda3/lib/python3.7/site-packages (6.4.0)\n",
      "Requirement already satisfied: prawcore<2.0,>=1.0.1 in /Users/willyraedy/anaconda3/lib/python3.7/site-packages (from praw) (1.0.1)\n",
      "Requirement already satisfied: websocket-client>=0.54.0 in /Users/willyraedy/anaconda3/lib/python3.7/site-packages (from praw) (0.56.0)\n",
      "Requirement already satisfied: update-checker>=0.16 in /Users/willyraedy/anaconda3/lib/python3.7/site-packages (from praw) (0.16)\n",
      "Requirement already satisfied: requests<3.0,>=2.6.0 in /Users/willyraedy/anaconda3/lib/python3.7/site-packages (from prawcore<2.0,>=1.0.1->praw) (2.21.0)\n",
      "Requirement already satisfied: six in /Users/willyraedy/anaconda3/lib/python3.7/site-packages (from websocket-client>=0.54.0->praw) (1.12.0)\n",
      "Requirement already satisfied: idna<2.9,>=2.5 in /Users/willyraedy/anaconda3/lib/python3.7/site-packages (from requests<3.0,>=2.6.0->prawcore<2.0,>=1.0.1->praw) (2.8)\n",
      "Requirement already satisfied: certifi>=2017.4.17 in /Users/willyraedy/anaconda3/lib/python3.7/site-packages (from requests<3.0,>=2.6.0->prawcore<2.0,>=1.0.1->praw) (2019.3.9)\n",
      "Requirement already satisfied: chardet<3.1.0,>=3.0.2 in /Users/willyraedy/anaconda3/lib/python3.7/site-packages (from requests<3.0,>=2.6.0->prawcore<2.0,>=1.0.1->praw) (3.0.4)\n",
      "Requirement already satisfied: urllib3<1.25,>=1.21.1 in /Users/willyraedy/anaconda3/lib/python3.7/site-packages (from requests<3.0,>=2.6.0->prawcore<2.0,>=1.0.1->praw) (1.24.1)\n"
     ]
    }
   ],
   "source": [
    "!{sys.executable} -m pip install dask\n",
    "!{sys.executable} -m pip install --upgrade google-cloud-storage\n",
    "!{sys.executable} -m pip install praw\n",
    "\n",
    "import requests\n",
    "import time\n",
    "import sys\n",
    "import pandas as pd\n",
    "import os\n",
    "import praw"
   ]
  },
  {
   "cell_type": "code",
   "execution_count": 2,
   "metadata": {},
   "outputs": [],
   "source": [
    "df = pd.read_csv('AllReddits_2019-10-18.csv', encoding='latin1')"
   ]
  },
  {
   "cell_type": "code",
   "execution_count": 5,
   "metadata": {},
   "outputs": [],
   "source": [
    "df['in_latino_network'] = None\n",
    "df['description_html'] = None"
   ]
  },
  {
   "cell_type": "code",
   "execution_count": 12,
   "metadata": {},
   "outputs": [],
   "source": [
    "bucket_size = 168675"
   ]
  },
  {
   "cell_type": "code",
   "execution_count": 8,
   "metadata": {},
   "outputs": [],
   "source": [
    "def make_fetch_description(subset):\n",
    "    credentials = [('f_wJd_CV9WBtxg', '23iMmeQKcovVMizPwx_5Nn4cg5M'), ('0k-ZbZ3PB3OOFg', 'M8_N4FiuaectjNnyNnarslG4Tjc'), ('oeXaoZM0yqyNIg', 'lsaJWiCnu_jIvZO_Y8BmL6wmmFs'), ('IhOxGlRhSSrwxA', 'VqV6DdUclLK4czmYgHw9C6IJUME'), ('SeygGduGXMkELA', 'zWz862BaRe7viZBXNdQZobOw9mo'), ('mHTRKgTy1BIoXg', 'YmIUEfGQw70WIqyQMGTEhcwpazI'), ('wlH5TZ37dlivRg', 'vKT6nTWDU47eNcB4x74HuTUPujk'), ('n1ipbojZDxQ2hw', 'R_sx68Ac40vs2fpyiox90aLQDjU'), ('RC5iOV7vvMM50g', '6OVgP2BQ1PzWRSGB5SJWKQf1AWQ'), ('p14y-jjK1_x_pA', 'sadN8Sfq0kAOF2uFyxQylRXqPmo')]\n",
    "    credential = credentials[subset]\n",
    "    client_id = credential[0]\n",
    "    client_secret = credential[1]\n",
    "    \n",
    "    reddit = praw.Reddit(client_id=client_id, client_secret=client_secret,\n",
    "                password='n4JDYt34xJakggnMQD2d7kxw', user_agent=f'script:melis-thesis:v0.0.1-agent-{subset} (by /u/wilburRay)',\n",
    "                username='wilburRay')\n",
    "    \n",
    "    def fetch_description_html(reddit_name):\n",
    "        print('running map func')\n",
    "        try:\n",
    "            sub = reddit.subreddit(reddit_name)\n",
    "            return sub.description_html\n",
    "        except KeyboardInterrupt:\n",
    "            raise\n",
    "        except:\n",
    "            e = sys.exc_info()[0]\n",
    "            print(e)\n",
    "    \n",
    "    return fetch_description_html"
   ]
  },
  {
   "cell_type": "code",
   "execution_count": 9,
   "metadata": {},
   "outputs": [],
   "source": [
    "import time\n",
    "\n",
    "def fetch_description_for_subset(dataframe, subset_index):\n",
    "    starting_index = subset_index * bucket_size\n",
    "    ending_index = (subset_index + 1) * bucket_size - 1\n",
    "    \n",
    "    fetch_description = make_fetch_description(subset_index)\n",
    "    \n",
    "    subset = dataframe.loc[starting_index:ending_index]\n",
    "    subset['description_html'] = subset['real_name'].map(fetch_description)\n",
    "    \n",
    "    subset.to_csv(f'/Users/willyraedy/Sync/SideProjects/RedditResearch/results/results-{subset_index}-{time.time()}.csv')\n",
    "    \n",
    "    return subset"
   ]
  },
  {
   "cell_type": "code",
   "execution_count": 10,
   "metadata": {},
   "outputs": [
    {
     "name": "stdout",
     "output_type": "stream",
     "text": [
      "running map func\n",
      "running map func\n",
      "running map func\n",
      "running map func\n",
      "running map func\n",
      "running map func\n",
      "running map func\n",
      "running map func\n",
      "running map func\n",
      "running map func\n",
      "running map func\n",
      "running map func\n",
      "running map func\n",
      "running map func\n",
      "running map func\n",
      "running map func\n",
      "running map func\n",
      "running map func\n",
      "running map func\n",
      "running map func\n",
      "running map func\n",
      "running map func\n",
      "running map func\n",
      "running map func\n",
      "running map func\n",
      "running map func\n",
      "running map func\n",
      "running map func\n",
      "running map func\n",
      "running map func\n",
      "running map func\n",
      "running map func\n",
      "running map func\n",
      "running map func\n",
      "running map func\n",
      "running map func\n",
      "running map func\n",
      "running map func\n",
      "running map func\n",
      "running map func\n",
      "running map func\n",
      "running map func\n",
      "running map func\n",
      "running map func\n",
      "running map func\n",
      "running map func\n",
      "running map func\n",
      "running map func\n",
      "running map func\n",
      "running map func\n",
      "running map func\n",
      "running map func\n",
      "running map func\n",
      "running map func\n",
      "running map func\n",
      "running map func\n",
      "running map func\n",
      "running map func\n",
      "running map func\n",
      "running map func\n",
      "running map func\n",
      "running map func\n",
      "running map func\n",
      "running map func\n",
      "running map func\n",
      "running map func\n",
      "running map func\n",
      "running map func\n",
      "running map func\n",
      "running map func\n",
      "running map func\n",
      "running map func\n",
      "running map func\n",
      "running map func\n",
      "running map func\n",
      "running map func\n",
      "running map func\n",
      "running map func\n",
      "running map func\n",
      "running map func\n",
      "running map func\n",
      "running map func\n",
      "running map func\n",
      "running map func\n",
      "running map func\n",
      "running map func\n",
      "running map func\n",
      "running map func\n",
      "running map func\n",
      "running map func\n",
      "running map func\n",
      "running map func\n",
      "running map func\n",
      "running map func\n",
      "running map func\n",
      "running map func\n",
      "running map func\n",
      "running map func\n",
      "running map func\n",
      "running map func\n"
     ]
    },
    {
     "name": "stderr",
     "output_type": "stream",
     "text": [
      "/Users/willyraedy/anaconda3/lib/python3.7/site-packages/ipykernel_launcher.py:10: SettingWithCopyWarning: \n",
      "A value is trying to be set on a copy of a slice from a DataFrame.\n",
      "Try using .loc[row_indexer,col_indexer] = value instead\n",
      "\n",
      "See the caveats in the documentation: http://pandas.pydata.org/pandas-docs/stable/indexing.html#indexing-view-versus-copy\n",
      "  # Remove the CWD from sys.path while we load stuff.\n"
     ]
    }
   ],
   "source": [
    "# setup\n",
    "subset0 = fetch_description_for_subset(df, 0)"
   ]
  },
  {
   "cell_type": "code",
   "execution_count": null,
   "metadata": {},
   "outputs": [],
   "source": [
    "subset1 = fetch_description_for_subset(df, 1)"
   ]
  },
  {
   "cell_type": "code",
   "execution_count": null,
   "metadata": {},
   "outputs": [],
   "source": [
    "subset2 = fetch_description_for_subset(df, 2)"
   ]
  },
  {
   "cell_type": "code",
   "execution_count": null,
   "metadata": {},
   "outputs": [],
   "source": [
    "subset3 = fetch_description_for_subset(df, 3)"
   ]
  },
  {
   "cell_type": "code",
   "execution_count": null,
   "metadata": {},
   "outputs": [],
   "source": [
    "subset4 = fetch_description_for_subset(df, 4)"
   ]
  },
  {
   "cell_type": "code",
   "execution_count": null,
   "metadata": {},
   "outputs": [],
   "source": [
    "subset5 = fetch_description_for_subset(df, 5)"
   ]
  },
  {
   "cell_type": "code",
   "execution_count": null,
   "metadata": {},
   "outputs": [],
   "source": [
    "subset6 = fetch_description_for_subset(df, 6)"
   ]
  },
  {
   "cell_type": "code",
   "execution_count": null,
   "metadata": {},
   "outputs": [],
   "source": [
    "subset7 = fetch_description_for_subset(df, 7)"
   ]
  },
  {
   "cell_type": "code",
   "execution_count": null,
   "metadata": {},
   "outputs": [],
   "source": [
    "subset8 = fetch_description_for_subset(df, 8)"
   ]
  },
  {
   "cell_type": "code",
   "execution_count": null,
   "metadata": {},
   "outputs": [],
   "source": [
    "subset9 = fetch_description_for_subset(df, 9)"
   ]
  }
 ],
 "metadata": {
  "kernelspec": {
   "display_name": "Python 3",
   "language": "python",
   "name": "python3"
  },
  "language_info": {
   "codemirror_mode": {
    "name": "ipython",
    "version": 3
   },
   "file_extension": ".py",
   "mimetype": "text/x-python",
   "name": "python",
   "nbconvert_exporter": "python",
   "pygments_lexer": "ipython3",
   "version": "3.7.3"
  }
 },
 "nbformat": 4,
 "nbformat_minor": 2
}
